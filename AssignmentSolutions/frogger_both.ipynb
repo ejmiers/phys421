{
 "cells": [
  {
   "cell_type": "code",
   "execution_count": 45,
   "metadata": {},
   "outputs": [],
   "source": [
    "import numpy as np\n",
    "import matplotlib.pyplot as plt\n",
    "import scipy.stats as stats\n",
    "import random"
   ]
  },
  {
   "cell_type": "code",
   "execution_count": 59,
   "metadata": {},
   "outputs": [],
   "source": [
    "n = 31"
   ]
  },
  {
   "cell_type": "code",
   "execution_count": 60,
   "metadata": {},
   "outputs": [],
   "source": [
    "random.seed(1)"
   ]
  },
  {
   "cell_type": "code",
   "execution_count": 61,
   "metadata": {},
   "outputs": [],
   "source": [
    "start = 0\n",
    "jumpsum = 0\n",
    "total_jumps = 0\n",
    "n_trys = 10000\n",
    "\n",
    "x = []\n",
    "y = []\n",
    "\n",
    "sigma = []\n",
    "\n",
    "jumps = []"
   ]
  },
  {
   "cell_type": "code",
   "execution_count": 63,
   "metadata": {},
   "outputs": [
    {
     "name": "stdout",
     "output_type": "stream",
     "text": [
      "Expectation value for n = 1 is 1.000000\n",
      "Expectation value for n = 2 is 1.997000\n",
      "Expectation value for n = 3 is 3.007400\n",
      "Expectation value for n = 4 is 4.049100\n",
      "Expectation value for n = 5 is 5.035800\n",
      "Expectation value for n = 6 is 6.043200\n",
      "Expectation value for n = 7 is 7.049300\n",
      "Expectation value for n = 8 is 8.046100\n",
      "Expectation value for n = 9 is 9.064100\n",
      "Expectation value for n = 10 is 9.949800\n",
      "Expectation value for n = 11 is 10.981400\n",
      "Expectation value for n = 12 is 11.927600\n",
      "Expectation value for n = 13 is 13.044300\n",
      "Expectation value for n = 14 is 14.126700\n",
      "Expectation value for n = 15 is 14.902200\n",
      "Expectation value for n = 16 is 15.967600\n",
      "Expectation value for n = 17 is 17.218300\n",
      "Expectation value for n = 18 is 18.107400\n",
      "Expectation value for n = 19 is 18.831100\n",
      "Expectation value for n = 20 is 20.003800\n",
      "Expectation value for n = 21 is 20.949000\n",
      "Expectation value for n = 22 is 21.900100\n",
      "Expectation value for n = 23 is 23.177200\n",
      "Expectation value for n = 24 is 24.321000\n",
      "Expectation value for n = 25 is 25.135000\n",
      "Expectation value for n = 26 is 26.215000\n",
      "Expectation value for n = 27 is 27.149500\n",
      "Expectation value for n = 28 is 27.879900\n",
      "Expectation value for n = 29 is 29.293300\n",
      "Expectation value for n = 30 is 30.155900\n",
      "Expectation value for n = 31 is 30.609000\n"
     ]
    }
   ],
   "source": [
    "for npad in range(1,n+1):\n",
    "    \n",
    "    x.append(npad-1)\n",
    "\n",
    "    end = npad\n",
    "    \n",
    "    for j in range(n_trys):\n",
    "        while start < npad:\n",
    "            jump = int(random.uniform(-start-1,(end-start+1)))\n",
    "            #print (\"Pos, Jump = \",start,jump)\n",
    "            start = start + jump\n",
    "            #print (\"Now at \",start)\n",
    "            if (jump != 0):\n",
    "                jumpsum = jumpsum + 1\n",
    "        start = 0\n",
    "        #print (\"j = %d, Total_jumps = %d\" % (j,jumpsum))\n",
    "        total_jumps = total_jumps + jumpsum\n",
    "        if npad == 31:\n",
    "            jumps.append(jumpsum)\n",
    "        jumpsum = 0\n",
    "    #print (npad,total_jumps,n_trys)\n",
    "    \n",
    "\n",
    "    expectation_value = total_jumps/n_trys*1.0\n",
    "    y.append(expectation_value)\n",
    "    sigma.append(expectation_value*1/np.sqrt(n_trys))\n",
    "    total_jumps = 0\n",
    "    \n",
    "    print (\"Expectation value for n = %d is %f\" % (npad,expectation_value))\n",
    "    "
   ]
  },
  {
   "cell_type": "code",
   "execution_count": 64,
   "metadata": {},
   "outputs": [
    {
     "data": {
      "text/plain": [
       "<ErrorbarContainer object of 3 artists>"
      ]
     },
     "execution_count": 64,
     "metadata": {},
     "output_type": "execute_result"
    },
    {
     "data": {
      "image/png": "[encoded data removed]",
      "text/plain": [
       "<Figure size 1080x864 with 1 Axes>"
      ]
     },
     "metadata": {
      "needs_background": "light"
     },
     "output_type": "display_data"
    }
   ],
   "source": [
    "def fitfunction(x,*paramlist):\n",
    "    return paramlist[0]+paramlist[1]*x+paramlist[2]*x*x+paramlist[3]*x*x*x\n",
    "\n",
    "\n",
    "fig = plt.figure(figsize=(15,12))\n",
    "ax1 = fig.add_subplot(111)\n",
    "\n",
    "ax1.set_title(\"Frog Problem\")\n",
    "ax1.set_xlabel('N')\n",
    "ax1.set_ylabel('Expected Number of Jumps / N')\n",
    "ax1.set_xlim(0,n+1)\n",
    "#ax1.set_yscale(\"log\")\n",
    "#ax1.set_xscale(\"log\")\n",
    "ax1.grid(True)\n",
    "\n",
    "ax1.errorbar(x,y,yerr=sigma,fmt='o')\n"
   ]
  },
  {
   "cell_type": "code",
   "execution_count": 67,
   "metadata": {},
   "outputs": [
    {
     "data": {
      "text/plain": [
       "(array([2.618e+03, 1.740e+03, 1.459e+03, 1.317e+03, 1.237e+03, 1.188e+03,\n",
       "        1.005e+03, 8.680e+02, 8.350e+02, 7.540e+02, 6.830e+02, 5.780e+02,\n",
       "        5.210e+02, 5.010e+02, 4.420e+02, 4.010e+02, 4.040e+02, 3.230e+02,\n",
       "        2.930e+02, 2.720e+02, 3.590e+02, 2.120e+02, 2.090e+02, 1.690e+02,\n",
       "        1.510e+02, 1.370e+02, 1.310e+02, 1.050e+02, 9.000e+01, 1.090e+02,\n",
       "        9.300e+01, 6.100e+01, 8.000e+01, 5.700e+01, 6.100e+01, 5.700e+01,\n",
       "        3.500e+01, 4.500e+01, 3.900e+01, 3.000e+01, 4.700e+01, 1.800e+01,\n",
       "        2.400e+01, 2.300e+01, 2.500e+01, 1.300e+01, 1.400e+01, 1.400e+01,\n",
       "        1.600e+01, 1.100e+01, 2.000e+01, 1.000e+01, 5.000e+00, 6.000e+00,\n",
       "        1.600e+01, 7.000e+00, 0.000e+00, 1.000e+00, 7.000e+00, 2.000e+00,\n",
       "        6.000e+00, 5.000e+00, 5.000e+00, 5.000e+00, 2.000e+00, 3.000e+00,\n",
       "        3.000e+00, 2.000e+00, 0.000e+00, 2.000e+00, 2.000e+00, 4.000e+00,\n",
       "        0.000e+00, 1.000e+00, 4.000e+00, 0.000e+00, 1.000e+00, 0.000e+00,\n",
       "        0.000e+00, 0.000e+00, 0.000e+00, 0.000e+00, 2.000e+00, 1.000e+00,\n",
       "        0.000e+00, 1.000e+00, 1.000e+00, 0.000e+00, 0.000e+00, 1.000e+00,\n",
       "        0.000e+00, 0.000e+00, 0.000e+00, 0.000e+00, 0.000e+00, 0.000e+00,\n",
       "        0.000e+00, 0.000e+00, 0.000e+00, 1.000e+00]),\n",
       " array([  1.  ,   4.05,   7.1 ,  10.15,  13.2 ,  16.25,  19.3 ,  22.35,\n",
       "         25.4 ,  28.45,  31.5 ,  34.55,  37.6 ,  40.65,  43.7 ,  46.75,\n",
       "         49.8 ,  52.85,  55.9 ,  58.95,  62.  ,  65.05,  68.1 ,  71.15,\n",
       "         74.2 ,  77.25,  80.3 ,  83.35,  86.4 ,  89.45,  92.5 ,  95.55,\n",
       "         98.6 , 101.65, 104.7 , 107.75, 110.8 , 113.85, 116.9 , 119.95,\n",
       "        123.  , 126.05, 129.1 , 132.15, 135.2 , 138.25, 141.3 , 144.35,\n",
       "        147.4 , 150.45, 153.5 , 156.55, 159.6 , 162.65, 165.7 , 168.75,\n",
       "        171.8 , 174.85, 177.9 , 180.95, 184.  , 187.05, 190.1 , 193.15,\n",
       "        196.2 , 199.25, 202.3 , 205.35, 208.4 , 211.45, 214.5 , 217.55,\n",
       "        220.6 , 223.65, 226.7 , 229.75, 232.8 , 235.85, 238.9 , 241.95,\n",
       "        245.  , 248.05, 251.1 , 254.15, 257.2 , 260.25, 263.3 , 266.35,\n",
       "        269.4 , 272.45, 275.5 , 278.55, 281.6 , 284.65, 287.7 , 290.75,\n",
       "        293.8 , 296.85, 299.9 , 302.95, 306.  ]),\n",
       " <a list of 100 Patch objects>)"
      ]
     },
     "execution_count": 67,
     "metadata": {},
     "output_type": "execute_result"
    },
    {
     "data": {
      "image/png": "[encoded data removed]",
      "text/plain": [
       "<Figure size 432x288 with 1 Axes>"
      ]
     },
     "metadata": {
      "needs_background": "light"
     },
     "output_type": "display_data"
    }
   ],
   "source": [
    "plt.hist(jumps,bins=100)"
   ]
  },
  {
   "cell_type": "code",
   "execution_count": null,
   "metadata": {},
   "outputs": [],
   "source": []
  }
 ],
 "metadata": {
  "kernelspec": {
   "display_name": "Python 3",
   "language": "python",
   "name": "python3"
  },
  "language_info": {
   "codemirror_mode": {
    "name": "ipython",
    "version": 3
   },
   "file_extension": ".py",
   "mimetype": "text/x-python",
   "name": "python",
   "nbconvert_exporter": "python",
   "pygments_lexer": "ipython3",
   "version": "3.6.8"
  }
 },
 "nbformat": 4,
 "nbformat_minor": 2
}
