{
  "nbformat": 4,
  "nbformat_minor": 0,
  "metadata": {
    "kernelspec": {
      "display_name": "Python 3",
      "language": "python",
      "name": "python3"
    },
    "language_info": {
      "codemirror_mode": {
        "name": "ipython",
        "version": 3
      },
      "file_extension": ".py",
      "mimetype": "text/x-python",
      "name": "python",
      "nbconvert_exporter": "python",
      "pygments_lexer": "ipython3",
      "version": "3.6.8"
    },
    "colab": {
      "name": "Miers_PCSE503_Assignment2.ipynb",
      "provenance": []
    }
  },
  "cells": [
    {
      "cell_type": "markdown",
      "metadata": {
        "id": "8GP5FaMn781u"
      },
      "source": [
        "PCSE 503\n",
        "\n",
        "Eric Miers\n",
        "\n",
        "September 30, 2020\n",
        "\n",
        "Code referenced from FittingExamples.ipynb - Dr. Edward Brash\n",
        "\n",
        "Code referenced from GlobalTemperatures.ipynb - Dr. Edward Brash\n",
        "\n",
        "Code referenced from Sun.py - Dr. Edward Brash"
      ]
    },
    {
      "cell_type": "markdown",
      "metadata": {
        "id": "t7Dpe53K38XC"
      },
      "source": [
        "# Assignment 2\n",
        "\n",
        "Due Date:  11:59pm on Friday, October 2nd (for now)"
      ]
    },
    {
      "cell_type": "markdown",
      "metadata": {
        "id": "D9Bfexb_38XD"
      },
      "source": [
        "## Question 1 - Fitting Part Deux"
      ]
    },
    {
      "cell_type": "markdown",
      "metadata": {
        "id": "WQB7HPJP38XE"
      },
      "source": [
        "In the Jupyter Notebook called Fitting_Examples.ipynb, the last few examples considered cases where the uncertainty in the data became\n",
        "larger at small x-values.  We considered three scenarios for collecting\n",
        "the data - one where we focused on small x-values, and two others that covered larger ranges of x.\n",
        "\n",
        "For this question, begin with the Jupyter Notebook above, and modify it\n",
        "to consider 10 x-value ranges that keep the minimum value of the range constant (and fairly close to zero) while varying the maximum x-value from small to larger values.  For each x-value range, calculate the uncertainty in the y-intercept, and then create a plot of the uncertainty as a function of that maximum x-value of the range.\n",
        "\n",
        "Now, consider keeping the maximum x-value of the range constant, and vary the minimum value of the range from a small value, close to zero, to a larger value that is close to the maximum value.  Create a plot of the\n",
        "uncertainty in the y-intercept as a function of the minimum x-value of the range.\n",
        "\n",
        "What can you conclude from this study about the optimal experiment design?"
      ]
    },
    {
      "cell_type": "markdown",
      "metadata": {
        "id": "23NZiHQOIsTO"
      },
      "source": [
        ""
      ]
    },
    {
      "cell_type": "code",
      "metadata": {
        "id": "AyRvS_Bz38XE"
      },
      "source": [
        "import numpy as np\n",
        "import pandas as pd\n",
        "import matplotlib.pyplot as plt\n",
        "import scipy.stats as stats"
      ],
      "execution_count": null,
      "outputs": []
    },
    {
      "cell_type": "code",
      "metadata": {
        "id": "3b_s8K1l4-zw",
        "outputId": "13ff47f8-0671-4a9c-9fc8-3a2be1c191af",
        "colab": {
          "base_uri": "https://localhost:8080/",
          "height": 319
        }
      },
      "source": [
        "#PART 1 - Constant X-Low, Varied X-High\n",
        "\n",
        "#Set the number of points per x-range\n",
        "nPoints = 11\n",
        "\n",
        "#Initialize our x-low list\n",
        "xLow = [0.3] * 10\n",
        "\n",
        "#Initialize our x-high list\n",
        "xHigh = []\n",
        "xHighInit = 1.0\n",
        "xHighScaleFactor = 2\n",
        "\n",
        "for i in range(0,10):\n",
        "  xHigh.append(xHighInit)\n",
        "  xHighInit *= xHighScaleFactor\n",
        "\n",
        "#Initialize x-mid\n",
        "xMid = []\n",
        "for i in range(0,10):\n",
        "  xMid.append((xLow[i] + xHigh[i])/2.0+0.01)\n",
        "\n",
        "print(\"x-low: {}\".format(xLow))\n",
        "print(\"x-mid: {}\".format(xMid))\n",
        "print(\"x-high: {}\".format(xHigh))\n",
        "\n",
        "xi = [np.linspace(xLow[i], xHigh[i], nPoints) for i in range(0,len(xLow))]\n",
        "yRandom = stats.norm.rvs(size=nPoints, loc=0, scale=0.2)\n",
        "yi = [xi[i] + yRandom for i in range(0,len(xLow))]\n",
        "\n",
        "for i in range(0,10):\n",
        "  plt.plot(xi[i], yi[i], 'o')\n"
      ],
      "execution_count": null,
      "outputs": [
        {
          "output_type": "stream",
          "text": [
            "x-low: [0.3, 0.3, 0.3, 0.3, 0.3, 0.3, 0.3, 0.3, 0.3, 0.3]\n",
            "x-mid: [0.66, 1.16, 2.1599999999999997, 4.16, 8.16, 16.16, 32.16, 64.16000000000001, 128.16, 256.15999999999997]\n",
            "x-high: [1.0, 2.0, 4.0, 8.0, 16.0, 32.0, 64.0, 128.0, 256.0, 512.0]\n"
          ],
          "name": "stdout"
        },
        {
          "output_type": "display_data",
          "data": {
            "image/png": "[encoded data removed]",
            "text/plain": [
              "<Figure size 432x288 with 1 Axes>"
            ]
          },
          "metadata": {
            "tags": [],
            "needs_background": "light"
          }
        }
      ]
    },
    {
      "cell_type": "code",
      "metadata": {
        "id": "UlN0Fze08Lqc",
        "outputId": "2cdf434d-d593-4cdb-c693-6b5587799253",
        "colab": {
          "base_uri": "https://localhost:8080/",
          "height": 1000
        }
      },
      "source": [
        "from scipy.optimize import curve_fit\n",
        "\n",
        "def fitfunction(x,*paramlist):\n",
        "    return paramlist[0]+paramlist[1]*x\n",
        "\n",
        "yIntUncertainty = []\n",
        "\n",
        "for i in range(0, len(xi)):\n",
        "  sigmai = np.array([0.1+ 1.5/np.abs(xi[i][j]) for j in range(nPoints)])\n",
        "\n",
        "  init_vals = [0.0 for x in range(2)]\n",
        "  popt, pcov = curve_fit(fitfunction,xi[i],yi[i],p0=init_vals,sigma=sigmai)\n",
        "  perr = np.sqrt(np.diag(pcov))\n",
        "\n",
        "  ps = np.random.multivariate_normal(popt,pcov,10000)\n",
        "  ysample=np.asarray([fitfunction(xi[i],*pi) for pi in ps])\n",
        "\n",
        "  lower = np.percentile(ysample,2.5,axis=0)\n",
        "  upper = np.percentile(ysample,97.5,axis=0)\n",
        "  middle = (lower+upper)/2.0\n",
        "\n",
        "  print(\"Coefficients (from curve_fit)\")\n",
        "  print (popt)\n",
        "  print(\"Covariance Matrix (from curve_fit)\")\n",
        "  print (pcov)\n",
        "\n",
        "  print()\n",
        "  print (\"Final Result: y = (%0.2f +/- %0.2f) x + (%0.2f +/- %0.2f)\" % (popt[1],perr[1],popt[0],perr[0]))\n",
        "  print()\n",
        "\n",
        "  yIntUncertainty.append(perr[0]) #append uncertainty of y intercept to our list\n",
        "\n",
        "print()\n",
        "print(\"x-low: {}\".format(xLow))\n",
        "print(\"x-mid: {}\".format(xMid))\n",
        "print(\"x-high: {}\".format(xHigh))\n",
        "print(\"Y-Intercept Uncetainties: {}\".format(yIntUncertainty))\n",
        "print()\n",
        "\n",
        "#Plot our Results\n",
        "plt.plot(xHigh, yIntUncertainty)\n",
        "plt.xlabel(\"X-High\")\n",
        "plt.ylabel(\"Uncertainty Y-Intercept\")\n",
        "plt.title(\"Uncertainty of Y-Intercept as a Function of X-High\")\n"
      ],
      "execution_count": null,
      "outputs": [
        {
          "output_type": "stream",
          "text": [
            "Coefficients (from curve_fit)\n",
            "[-0.16820185  1.28316417]\n",
            "Covariance Matrix (from curve_fit)\n",
            "[[ 0.08068537 -0.0976943 ]\n",
            " [-0.0976943   0.12514594]]\n",
            "\n",
            "Final Result: y = (1.28 +/- 0.35) x + (-0.17 +/- 0.28)\n",
            "\n",
            "Coefficients (from curve_fit)\n",
            "[-0.172905    1.15011253]\n",
            "Covariance Matrix (from curve_fit)\n",
            "[[ 0.06787983 -0.04113158]\n",
            " [-0.04113158  0.02666383]]\n",
            "\n",
            "Final Result: y = (1.15 +/- 0.16) x + (-0.17 +/- 0.26)\n",
            "\n",
            "Coefficients (from curve_fit)\n",
            "[-0.17769329  1.07767065]\n",
            "Covariance Matrix (from curve_fit)\n",
            "[[ 0.06340789 -0.019296  ]\n",
            " [-0.019296    0.00631345]]\n",
            "\n",
            "Final Result: y = (1.08 +/- 0.08) x + (-0.18 +/- 0.25)\n",
            "\n",
            "Coefficients (from curve_fit)\n",
            "[-0.17001515  1.03783063]\n",
            "Covariance Matrix (from curve_fit)\n",
            "[[ 0.05832848 -0.00897466]\n",
            " [-0.00897466  0.00149544]]\n",
            "\n",
            "Final Result: y = (1.04 +/- 0.04) x + (-0.17 +/- 0.24)\n",
            "\n",
            "Coefficients (from curve_fit)\n",
            "[-0.14865981  1.01722246]\n",
            "Covariance Matrix (from curve_fit)\n",
            "[[ 0.05156906 -0.00404128]\n",
            " [-0.00404128  0.00034714]]\n",
            "\n",
            "Final Result: y = (1.02 +/- 0.02) x + (-0.15 +/- 0.23)\n",
            "\n",
            "Coefficients (from curve_fit)\n",
            "[-0.1172575   1.00731905]\n",
            "Covariance Matrix (from curve_fit)\n",
            "[[ 4.37825590e-02 -1.75836975e-03]\n",
            " [-1.75836975e-03  7.88185211e-05]]\n",
            "\n",
            "Final Result: y = (1.01 +/- 0.01) x + (-0.12 +/- 0.21)\n",
            "\n",
            "Coefficients (from curve_fit)\n",
            "[-0.08378812  1.0029548 ]\n",
            "Covariance Matrix (from curve_fit)\n",
            "[[ 3.63535808e-02 -7.50193796e-04]\n",
            " [-7.50193796e-04  1.76948403e-05]]\n",
            "\n",
            "Final Result: y = (1.00 +/- 0.00) x + (-0.08 +/- 0.19)\n",
            "\n",
            "Coefficients (from curve_fit)\n",
            "[-0.05460163  1.00116426]\n",
            "Covariance Matrix (from curve_fit)\n",
            "[[ 3.04173903e-02 -3.21901202e-04]\n",
            " [-3.21901202e-04  4.00077299e-06]]\n",
            "\n",
            "Final Result: y = (1.00 +/- 0.00) x + (-0.05 +/- 0.17)\n",
            "\n",
            "Coefficients (from curve_fit)\n",
            "[-0.03163609  1.0004571 ]\n",
            "Covariance Matrix (from curve_fit)\n",
            "[[ 2.62939800e-02 -1.41962405e-04]\n",
            " [-1.41962405e-04  9.24044055e-07]]\n",
            "\n",
            "Final Result: y = (1.00 +/- 0.00) x + (-0.03 +/- 0.16)\n",
            "\n",
            "Coefficients (from curve_fit)\n",
            "[-0.0152161  1.0001834]\n",
            "Covariance Matrix (from curve_fit)\n",
            "[[ 2.37120729e-02 -6.49094769e-05]\n",
            " [-6.49094769e-05  2.18808911e-07]]\n",
            "\n",
            "Final Result: y = (1.00 +/- 0.00) x + (-0.02 +/- 0.15)\n",
            "\n",
            "\n",
            "x-low: [0.3, 0.3, 0.3, 0.3, 0.3, 0.3, 0.3, 0.3, 0.3, 0.3]\n",
            "x-mid: [0.66, 1.16, 2.1599999999999997, 4.16, 8.16, 16.16, 32.16, 64.16000000000001, 128.16, 256.15999999999997]\n",
            "x-high: [1.0, 2.0, 4.0, 8.0, 16.0, 32.0, 64.0, 128.0, 256.0, 512.0]\n",
            "Y-Intercept Uncetainties: [0.28405171067760493, 0.2605375882764079, 0.25180923129637184, 0.24151289040553278, 0.22708821552510572, 0.20924282312154396, 0.19066615006229906, 0.17440582062350304, 0.16215418599907488, 0.1539872490820257]\n",
            "\n"
          ],
          "name": "stdout"
        },
        {
          "output_type": "execute_result",
          "data": {
            "text/plain": [
              "Text(0.5, 1.0, 'Uncertainty of Y-Intercept as a Function of X-High')"
            ]
          },
          "metadata": {
            "tags": []
          },
          "execution_count": 28
        },
        {
          "output_type": "display_data",
          "data": {
            "image/png": "[encoded data removed]",
            "text/plain": [
              "<Figure size 432x288 with 1 Axes>"
            ]
          },
          "metadata": {
            "tags": [],
            "needs_background": "light"
          }
        }
      ]
    },
    {
      "cell_type": "code",
      "metadata": {
        "id": "zPH4HgCDCHH_",
        "outputId": "6c1d78ee-5811-40aa-8c7f-c14c58e1d230",
        "colab": {
          "base_uri": "https://localhost:8080/",
          "height": 319
        }
      },
      "source": [
        "#PART 2 - Varied X-Low, Varried X-High\n",
        "\n",
        "#Set the number of points per x-range\n",
        "nPoints = 11\n",
        "\n",
        "#Initialize our x-low list\n",
        "xLow = [0.3, 0.5, 0.9, 1.0, 2.0, 16.0, 64.0, 128.0, 256.0, 500.0]\n",
        "\n",
        "#Initialize our x-high list\n",
        "xHigh = [512.0] * 10\n",
        "\n",
        "#Initialize x-mid\n",
        "xMid = []\n",
        "for i in range(0,10):\n",
        "  xMid.append((xLow[i] + xHigh[i])/2.0+0.01)\n",
        "\n",
        "print(\"x-low: {}\".format(xLow))\n",
        "print(\"x-mid: {}\".format(xMid))\n",
        "print(\"x-high: {}\".format(xHigh))\n",
        "\n",
        "xi = [np.linspace(xLow[i], xHigh[i], nPoints) for i in range(0,len(xLow))]\n",
        "yRandom = stats.norm.rvs(size=nPoints, loc=0, scale=0.2)\n",
        "yi = [xi[i] + yRandom for i in range(0,len(xLow))]\n",
        "\n",
        "for i in range(0,10):\n",
        "  plt.plot(xi[i], yi[i], 'o')"
      ],
      "execution_count": null,
      "outputs": [
        {
          "output_type": "stream",
          "text": [
            "x-low: [0.3, 0.5, 0.9, 1.0, 2.0, 16.0, 64.0, 128.0, 256.0, 500.0]\n",
            "x-mid: [256.15999999999997, 256.26, 256.46, 256.51, 257.01, 264.01, 288.01, 320.01, 384.01, 506.01]\n",
            "x-high: [512.0, 512.0, 512.0, 512.0, 512.0, 512.0, 512.0, 512.0, 512.0, 512.0]\n"
          ],
          "name": "stdout"
        },
        {
          "output_type": "display_data",
          "data": {
            "image/png": "[encoded data removed]",
            "text/plain": [
              "<Figure size 432x288 with 1 Axes>"
            ]
          },
          "metadata": {
            "tags": [],
            "needs_background": "light"
          }
        }
      ]
    },
    {
      "cell_type": "code",
      "metadata": {
        "id": "AUUk5XQyGkE2",
        "outputId": "ef73d6de-08f0-435d-c932-775ae0aebd5b",
        "colab": {
          "base_uri": "https://localhost:8080/",
          "height": 1000
        }
      },
      "source": [
        "from scipy.optimize import curve_fit\n",
        "\n",
        "def fitfunction(x,*paramlist):\n",
        "    return paramlist[0]+paramlist[1]*x\n",
        "\n",
        "yIntUncertainty = []\n",
        "\n",
        "for i in range(0, len(xi)):\n",
        "  sigmai = np.array([0.1+ 1.5/np.abs(xi[i][j]) for j in range(nPoints)])\n",
        "\n",
        "  init_vals = [0.0 for x in range(2)]\n",
        "  popt, pcov = curve_fit(fitfunction,xi[i],yi[i],p0=init_vals,sigma=sigmai)\n",
        "  perr = np.sqrt(np.diag(pcov))\n",
        "\n",
        "  ps = np.random.multivariate_normal(popt,pcov,10000)\n",
        "  ysample=np.asarray([fitfunction(xi[i],*pi) for pi in ps])\n",
        "\n",
        "  lower = np.percentile(ysample,2.5,axis=0)\n",
        "  upper = np.percentile(ysample,97.5,axis=0)\n",
        "  middle = (lower+upper)/2.0\n",
        "\n",
        "  print(\"Coefficients (from curve_fit)\")\n",
        "  print (popt)\n",
        "  print(\"Covariance Matrix (from curve_fit)\")\n",
        "  print (pcov)\n",
        "\n",
        "  print()\n",
        "  print (\"Final Result: y = (%0.2f +/- %0.2f) x + (%0.2f +/- %0.2f)\" % (popt[1],perr[1],popt[0],perr[0]))\n",
        "  print()\n",
        "\n",
        "  yIntUncertainty.append(perr[0]) #append uncertainty of y intercept to our list\n",
        "\n",
        "print()\n",
        "print(\"x-low: {}\".format(xLow))\n",
        "print(\"x-mid: {}\".format(xMid))\n",
        "print(\"x-high: {}\".format(xHigh))\n",
        "print(\"Y-Intercept Uncetainties: {}\".format(yIntUncertainty))\n",
        "print()\n",
        "\n",
        "#Plot our Results\n",
        "plt.plot(xLow, yIntUncertainty)\n",
        "plt.xlabel(\"X-Low\")\n",
        "plt.ylabel(\"Uncertainty Y-Intercept\")\n",
        "plt.title(\"Uncertainty of Y-Intercept as a Function of X-Low\")"
      ],
      "execution_count": null,
      "outputs": [
        {
          "output_type": "stream",
          "text": [
            "Coefficients (from curve_fit)\n",
            "[-0.17193527  1.00039745]\n",
            "Covariance Matrix (from curve_fit)\n",
            "[[ 1.44906095e-02 -3.96698367e-05]\n",
            " [-3.96698367e-05  1.33728056e-07]]\n",
            "\n",
            "Final Result: y = (1.00 +/- 0.00) x + (-0.17 +/- 0.12)\n",
            "\n",
            "Coefficients (from curve_fit)\n",
            "[-0.1719503   1.00039743]\n",
            "Covariance Matrix (from curve_fit)\n",
            "[[ 1.44948957e-02 -3.96816095e-05]\n",
            " [-3.96816095e-05  1.33756432e-07]]\n",
            "\n",
            "Final Result: y = (1.00 +/- 0.00) x + (-0.17 +/- 0.12)\n",
            "\n",
            "Coefficients (from curve_fit)\n",
            "[-0.17192472  1.00039724]\n",
            "Covariance Matrix (from curve_fit)\n",
            "[[ 1.44969565e-02 -3.96878916e-05]\n",
            " [-3.96878916e-05  1.33768634e-07]]\n",
            "\n",
            "Final Result: y = (1.00 +/- 0.00) x + (-0.17 +/- 0.12)\n",
            "\n",
            "Coefficients (from curve_fit)\n",
            "[-0.17190564  1.00039715]\n",
            "Covariance Matrix (from curve_fit)\n",
            "[[ 1.44961270e-02 -3.96855563e-05]\n",
            " [-3.96855563e-05  1.33760597e-07]]\n",
            "\n",
            "Final Result: y = (1.00 +/- 0.00) x + (-0.17 +/- 0.12)\n",
            "\n",
            "Coefficients (from curve_fit)\n",
            "[-0.1715492   1.00039587]\n",
            "Covariance Matrix (from curve_fit)\n",
            "[[ 1.44656629e-02 -3.96027485e-05]\n",
            " [-3.96027485e-05  1.33524690e-07]]\n",
            "\n",
            "Final Result: y = (1.00 +/- 0.00) x + (-0.17 +/- 0.12)\n",
            "\n",
            "Coefficients (from curve_fit)\n",
            "[-0.16169506  1.0003648 ]\n",
            "Covariance Matrix (from curve_fit)\n",
            "[[ 1.34480766e-02 -3.68609437e-05]\n",
            " [-3.68609437e-05  1.26057912e-07]]\n",
            "\n",
            "Final Result: y = (1.00 +/- 0.00) x + (-0.16 +/- 0.12)\n",
            "\n",
            "Coefficients (from curve_fit)\n",
            "[-0.1636548   1.00035624]\n",
            "Covariance Matrix (from curve_fit)\n",
            "[[ 1.47292934e-02 -4.04680608e-05]\n",
            " [-4.04680608e-05  1.34898213e-07]]\n",
            "\n",
            "Final Result: y = (1.00 +/- 0.00) x + (-0.16 +/- 0.12)\n",
            "\n",
            "Coefficients (from curve_fit)\n",
            "[-0.18891514  1.00040237]\n",
            "Covariance Matrix (from curve_fit)\n",
            "[[ 2.12906371e-02 -5.75327250e-05]\n",
            " [-5.75327250e-05  1.76767929e-07]]\n",
            "\n",
            "Final Result: y = (1.00 +/- 0.00) x + (-0.19 +/- 0.15)\n",
            "\n",
            "Coefficients (from curve_fit)\n",
            "[-0.28860824  1.00059564]\n",
            "Covariance Matrix (from curve_fit)\n",
            "[[ 6.07298898e-02 -1.50940749e-04]\n",
            " [-1.50940749e-04  3.91657943e-07]]\n",
            "\n",
            "Final Result: y = (1.00 +/- 0.00) x + (-0.29 +/- 0.25)\n",
            "\n",
            "Coefficients (from curve_fit)\n",
            "[-6.47030207  1.01266887]\n",
            "Covariance Matrix (from curve_fit)\n",
            "[[ 4.55722858e+01 -9.00584538e-02]\n",
            " [-9.00584538e-02  1.77980567e-04]]\n",
            "\n",
            "Final Result: y = (1.01 +/- 0.01) x + (-6.47 +/- 6.75)\n",
            "\n",
            "\n",
            "x-low: [0.3, 0.5, 0.9, 1.0, 2.0, 16.0, 64.0, 128.0, 256.0, 500.0]\n",
            "x-mid: [256.15999999999997, 256.26, 256.46, 256.51, 257.01, 264.01, 288.01, 320.01, 384.01, 506.01]\n",
            "x-high: [512.0, 512.0, 512.0, 512.0, 512.0, 512.0, 512.0, 512.0, 512.0, 512.0]\n",
            "Y-Intercept Uncetainties: [0.12037694756637385, 0.1203947495928008, 0.1204033075531944, 0.12039986315908999, 0.12027328406168207, 0.11596584251021774, 0.12136430034998652, 0.14591311483440117, 0.2464343519479925, 6.750724834060186]\n",
            "\n"
          ],
          "name": "stdout"
        },
        {
          "output_type": "execute_result",
          "data": {
            "text/plain": [
              "Text(0.5, 1.0, 'Uncertainty of Y-Intercept as a Function of X-Low')"
            ]
          },
          "metadata": {
            "tags": []
          },
          "execution_count": 32
        },
        {
          "output_type": "display_data",
          "data": {
            "image/png": "[encoded data removed]",
            "text/plain": [
              "<Figure size 432x288 with 1 Axes>"
            ]
          },
          "metadata": {
            "tags": [],
            "needs_background": "light"
          }
        }
      ]
    },
    {
      "cell_type": "markdown",
      "metadata": {
        "id": "cfmBix0VHFeI"
      },
      "source": [
        "From the data and plots above, the optimal design appears to be one where the minimum x-values are close to zero and the max x-values are a large value. The graphs indicate that as the maximum-x value increases, the uncertainty decreases when x-min is kept constant and close to zero. When the x-max is kept constant and at a high value, the uncertainty increases as x-min approaches x-max. This would indicate the optimal setup is one where there is a large range of x-values, with x-min close to zero and x-max is a large number that is distant from x-min. "
      ]
    },
    {
      "cell_type": "markdown",
      "metadata": {
        "id": "EcM3Uszd38XI"
      },
      "source": [
        "## Question 2 - Why is it cold?"
      ]
    },
    {
      "cell_type": "markdown",
      "metadata": {
        "id": "VTMCb3YH38XI"
      },
      "source": [
        "Modify the Jupyter Notebook called GlobalTemperatures.ipynb to consider the temperature variations over the year for five locations - two in the northern hemisphere, one near the equator, and two in the southern hemisphere.  Do not use any of the same locations already considered.\n",
        "\n",
        "What are the scale factors and offsets required to give a reasonable fit in each case?"
      ]
    },
    {
      "cell_type": "code",
      "metadata": {
        "id": "NroYzrazGPTz"
      },
      "source": [
        "import datetime\n",
        "import numpy as np\n",
        "\n",
        "class Sun:\n",
        "\n",
        "    def getSunriseTime( self, coords ):\n",
        "        return self.calcSunTime( coords, True )\n",
        "\n",
        "    def getSunsetTime( self, coords ):\n",
        "        return self.calcSunTime( coords, False )\n",
        "\n",
        "    def getCurrentUTC( self ):\n",
        "        now = datetime.datetime.now()\n",
        "        return [ now.day, now.month, now.year ]\n",
        "\n",
        "    def calcSunTime( self, coords, isRiseTime, zenith = 90.8 ):\n",
        "\n",
        "        # isRiseTime == False, returns sunsetTime\n",
        "\n",
        "        day, month, year = self.getCurrentUTC()\n",
        "        #print (day,month,year)\n",
        "\n",
        "        longitude = coords['longitude']\n",
        "        latitude = coords['latitude']\n",
        "\n",
        "        TO_RAD = np.pi/180\n",
        "\n",
        "        ##1. first calculate the day of the year\n",
        "        #N1 = math.floor(275 * month / 9)\n",
        "        #N2 = math.floor((month + 9) / 12)\n",
        "        #N3 = (1 + math.floor((year - 4 * math.floor(year / 4) + 2) / 3))\n",
        "        #N = N1 - (N2 * N3) + day - 30\n",
        "\n",
        "\t# EJB:  Modify to calculate the times for all days of the year!!\n",
        "        N = np.array([i for i in range(1,366)])\n",
        "\n",
        "        #2. convert the longitude to hour value and calculate an approximate time\n",
        "        lngHour = longitude / 15\n",
        "\n",
        "        if isRiseTime:\n",
        "            t = N + ((6 - lngHour) / 24)\n",
        "        else: #sunset\n",
        "            t = N + ((18 - lngHour) / 24)\n",
        "\n",
        "        #3. calculate the Sun's mean anomaly\n",
        "        M = (0.9856 * t) - 3.289\n",
        "\n",
        "        #4. calculate the Sun's true longitude\n",
        "        L = M + (1.916 * np.sin(TO_RAD*M)) + (0.020 * np.sin(TO_RAD * 2 * M)) + 282.634\n",
        "        L = self.forceRange( L, 360 ) #NOTE: L adjusted into the range [0,360)\n",
        "\n",
        "        #5a. calculate the Sun's right ascension\n",
        "\n",
        "        RA = (1/TO_RAD) * np.arctan(0.91764 * np.tan(TO_RAD*L))\n",
        "        RA = self.forceRange( RA, 360 ) #NOTE: RA adjusted into the range [0,360)\n",
        "\n",
        "        #5b. right ascension value needs to be in the same quadrant as L\n",
        "        Lquadrant  = (np.floor( L/90)) * 90\n",
        "        RAquadrant = (np.floor(RA/90)) * 90\n",
        "        RA = RA + (Lquadrant - RAquadrant)\n",
        "\n",
        "        #5c. right ascension value needs to be converted into hours\n",
        "        RA = RA / 15\n",
        "\n",
        "        #6. calculate the Sun's declination\n",
        "        sinDec = 0.39782 * np.sin(TO_RAD*L)\n",
        "        cosDec = np.cos(np.arcsin(sinDec))\n",
        "\n",
        "        #7a. calculate the Sun's local hour angle\n",
        "        cosH = (np.cos(TO_RAD*zenith) - (sinDec * np.sin(TO_RAD*latitude))) / (cosDec * np.cos(TO_RAD*latitude))\n",
        "\n",
        "        #if cosH > 1:\n",
        "        #    return {'status': False, 'msg': 'the sun never rises on this location (on the specified date)'}\n",
        "\n",
        "        #if cosH < -1:\n",
        "        #    return {'status': False, 'msg': 'the sun never sets on this location (on the specified date)'}\n",
        "\n",
        "        #7b. finish calculating H and convert into hours\n",
        "\n",
        "        if isRiseTime:\n",
        "            H = 360 - (1/TO_RAD) * np.arccos(cosH)\n",
        "        else: #setting\n",
        "            H = (1/TO_RAD) * np.arccos(cosH)\n",
        "\n",
        "        H = H / 15\n",
        "\n",
        "        #8. calculate local mean time of rising/setting\n",
        "        T = H + RA - (0.06571 * t) - 6.622\n",
        "\n",
        "        #9. adjust back to UTC\n",
        "        UT = T - lngHour\n",
        "        #print (UT)\n",
        "        UT = self.forceRange( UT, 24) # UTC time in decimal format (e.g. 23.23)\n",
        "        #print (UT)\n",
        "\n",
        "        #10. Return\n",
        "        #hr = self.forceRange(UT, 24)\n",
        "        #min = ((UT - UT.astype(int))*60,0)\n",
        "\n",
        "        return {\n",
        "            'status': True,\n",
        "            'decimal': UT\n",
        "            #'hr': hr,\n",
        "            #'min': min \n",
        "        }\n",
        "\n",
        "    def forceRange( self, v, max ):\n",
        "        # force v to be >= 0 and < max\n",
        "        for i in range(len(v)):\n",
        "            if v[i] < 0:\n",
        "                v[i] = v[i] + max\n",
        "            elif v[i] >= max:\n",
        "                v[i] = v[i] - max\n",
        "        return v"
      ],
      "execution_count": null,
      "outputs": []
    },
    {
      "cell_type": "code",
      "metadata": {
        "id": "rEO7WCsJ21oJ",
        "outputId": "5680e8ae-9227-4975-b502-dc1f06d779ed",
        "colab": {
          "base_uri": "https://localhost:8080/",
          "height": 369
        }
      },
      "source": [
        "import numpy as np\n",
        "import pandas as pd\n",
        "import matplotlib.pyplot as plt\n",
        "\n",
        "# Number of days in the sidereal year\n",
        "daysPerYear = 365.256363\n",
        "\n",
        "# Array to hold day of year\n",
        "\n",
        "dayOfYear = np.array([i for i in range(1,366)])\n",
        "\n",
        "# Earth-Sun Distance in A.U.\n",
        "rES=1.0-0.01672*np.cos(2.0*np.pi/daysPerYear*(dayOfYear-4))\n",
        "relPower=1/rES**2\n",
        "\n",
        "# plt.plot(dayOfYear,relPower,'.')\n",
        "\n",
        "\n",
        "def angleCalc(latitude):\n",
        "  # tilt angle of the earth in 2020\n",
        "  tiltAngle = -23.44*np.pi/180.0\n",
        "  angle = tiltAngle*np.cos(2.0*np.pi/daysPerYear*(dayOfYear+10))\n",
        "  \n",
        "  print(latitude)\n",
        "  return latitude*np.pi/180.0 - angle\n",
        "\n",
        "# LOCATIONS\n",
        "statsSantaClara = {\"coords\": {'longitude': 121.9552, 'latitude': 37.3541}, 'angle': angleCalc(37.3541)}\n",
        "statsHalifax = {'coords': {'longitude': 63.5752, 'latitude': 44.6488}, 'angle': angleCalc(44.6488)}\n",
        "statsKisumu = {'coords': {'longitude': 34.7680, 'latitude': -0.0917}, 'angle': angleCalc(-0.0917)}\n",
        "statsBrisbane = {'coords': {'longitude': 153.0251, 'latitude': -27.4698}, 'angle': angleCalc(-27.4698)}\n",
        "statsBuenosAires = {'coords': {'longitude': 58.3816, 'latitude': -34.6037}, 'angle': angleCalc(-34.6037)}\n",
        "\n",
        "\n",
        "#from Sun import Sun\n",
        "\n",
        "coords = statsSantaClara[\"coords\"]\n",
        "sun = Sun()\n",
        "sunrise = sun.getSunriseTime(coords)['decimal']\n",
        "sunset = sun.getSunsetTime(coords)['decimal']\n",
        "dayLength = sun.getSunsetTime(coords)['decimal']-sun.getSunriseTime(coords)['decimal']\n",
        "for i in range(len(dayLength)):\n",
        "    if dayLength[i]<0:\n",
        "        dayLength[i] = dayLength[i]+24\n",
        "statsSantaClara['lengthCorrection'] = dayLength/12.0\n",
        "\n",
        "\n",
        "coords = statsHalifax[\"coords\"]\n",
        "sun = Sun()\n",
        "sunrise = sun.getSunriseTime(coords)['decimal']\n",
        "sunset = sun.getSunsetTime(coords)['decimal']\n",
        "dayLength = sun.getSunsetTime(coords)['decimal']-sun.getSunriseTime(coords)['decimal']\n",
        "for i in range(len(dayLength)):\n",
        "    if dayLength[i]<0:\n",
        "        dayLength[i] = dayLength[i]+24\n",
        "statsHalifax['lengthCorrection'] = dayLength/12.0\n",
        "\n",
        "\n",
        "coords = statsKisumu[\"coords\"]\n",
        "sun = Sun()\n",
        "sunrise = sun.getSunriseTime(coords)['decimal']\n",
        "sunset = sun.getSunsetTime(coords)['decimal']\n",
        "dayLength = sun.getSunsetTime(coords)['decimal']-sun.getSunriseTime(coords)['decimal']\n",
        "for i in range(len(dayLength)):\n",
        "    if dayLength[i]<0:\n",
        "        dayLength[i] = dayLength[i]+24\n",
        "statsKisumu['lengthCorrection'] = dayLength/12.0\n",
        "\n",
        "\n",
        "coords = statsBrisbane[\"coords\"]\n",
        "sun = Sun()\n",
        "sunrise = sun.getSunriseTime(coords)['decimal']\n",
        "sunset = sun.getSunsetTime(coords)['decimal']\n",
        "dayLength = sun.getSunsetTime(coords)['decimal']-sun.getSunriseTime(coords)['decimal']\n",
        "for i in range(len(dayLength)):\n",
        "    if dayLength[i]<0:\n",
        "        dayLength[i] = dayLength[i]+24\n",
        "statsBrisbane['lengthCorrection'] = dayLength/12.0\n",
        "\n",
        "\n",
        "coords = statsBuenosAires[\"coords\"]\n",
        "sun = Sun()\n",
        "sunrise = sun.getSunriseTime(coords)['decimal']\n",
        "sunset = sun.getSunsetTime(coords)['decimal']\n",
        "dayLength = sun.getSunsetTime(coords)['decimal']-sun.getSunriseTime(coords)['decimal']\n",
        "for i in range(len(dayLength)):\n",
        "    if dayLength[i]<0:\n",
        "        dayLength[i] = dayLength[i]+24\n",
        "statsBuenosAires['lengthCorrection'] = dayLength/12.0\n",
        "\n",
        "\n",
        "statsSantaClara[\"tempTheory\"] = (np.cos(statsSantaClara['angle'])*relPower*np.sqrt(statsSantaClara['lengthCorrection']))\n",
        "statsHalifax[\"tempTheory\"] = (np.cos(statsHalifax['angle'])*relPower*np.sqrt(statsHalifax['lengthCorrection']))\n",
        "statsKisumu[\"tempTheory\"] = (np.cos(statsKisumu['angle'])*relPower*np.sqrt(statsKisumu['lengthCorrection']))\n",
        "statsBrisbane[\"tempTheory\"] = (np.cos(statsBrisbane['angle'])*relPower*np.sqrt(statsBrisbane['lengthCorrection']))\n",
        "statsBuenosAires[\"tempTheory\"] = (np.cos(statsBuenosAires['angle'])*relPower*np.sqrt(statsBuenosAires['lengthCorrection']))\n",
        "\n",
        "#print(statsSantaClara[\"tempTheory\"])\n",
        "\n",
        "# plt.plot(dayOfYear,statsSantaClara[\"tempTheory\"],'m')\n",
        "# plt.plot(dayOfYear,statsHalifax[\"tempTheory\"],'r')\n",
        "# plt.plot(dayOfYear,statsKisumu[\"tempTheory\"],'g')\n",
        "# plt.plot(dayOfYear,statsBrisbane[\"tempTheory\"],'b')\n",
        "# plt.plot(dayOfYear,statsBuenosAires[\"tempTheory\"],'c')\n",
        "\n",
        "statsSantaClara['temp'] = np.array([9.5,11.5,12.6,14.2,16.5,18.8,20.2,20.2,19.6,17,12.7,9.7])+273.15 # https://en.climate-data.org/north-america/united-states-of-america/california/santa-clara-1431/\n",
        "statsHalifax['temp'] = np.array([-4.9,-5,-1.1,4,9.3,14.4,17.9,18,14.2,9.1,3.9,-2.2])+273.15 # https://en.climate-data.org/north-america/canada/nova-scotia/halifax-129/\n",
        "statsKisumu['temp'] = np.array([23.5,23.6,23.6,23,22.6,21.9,21.7,22,22.6,23.4,23.3,23])+273.15 # https://en.climate-data.org/africa/kenya/kisumu/kisumu-715071/\n",
        "statsBrisbane['temp'] = np.array([24.9,24.7,23.5,21.3,18.2,15.6,14.6,15.4,17.7,20.4,22.7,24.2])+273.15 # https://en.climate-data.org/oceania/australia/queensland/brisbane-6171/\n",
        "statsBuenosAires['temp'] = np.array([23.6,22.8,20.6,16.4,13.5,11,10.6,11.5,13.5,16.4,19.5,22])+273.15 # https://en.climate-data.org/south-america/argentina/autonomous-city-of-buenos-aires/buenos-aires-1207/\n",
        "\n",
        "error = np.array([1 for i in range(12)])\n",
        "\n",
        "\n",
        "normalization = max([np.amax(statsSantaClara['temp']),\n",
        "                     np.amax(statsHalifax['temp']),\n",
        "                     np.amax(statsKisumu['temp']),\n",
        "                     np.amax(statsBrisbane['temp']),\n",
        "                     np.amax(statsBuenosAires['temp'])]) \n",
        "\n",
        "\n",
        "# Normalize Temperatures between 0 and 1\n",
        "statsSantaClara['temp'] /= normalization\n",
        "statsHalifax['temp'] /= normalization\n",
        "statsKisumu['temp'] /= normalization\n",
        "statsBrisbane['temp'] /= normalization\n",
        "statsBuenosAires['temp'] /= normalization\n",
        "error = error/normalization\n",
        "\n",
        "month = np.array([(15+30*(i-2)) for i in range(1,13)])\n",
        "for i in range(len(month)):\n",
        "    if month[i]<0:\n",
        "        month[i]=month[i]+365\n",
        "\n",
        "plt.errorbar(month,statsSantaClara['temp'],yerr=error,fmt='mo')\n",
        "plt.errorbar(month,statsHalifax['temp'],yerr=error,fmt='ro')\n",
        "plt.errorbar(month,statsKisumu['temp'],yerr=error,fmt='go')\n",
        "plt.errorbar(month,statsBrisbane['temp'],yerr=error,fmt='bo')\n",
        "plt.errorbar(month,statsBuenosAires['temp'],yerr=error,fmt='co')\n",
        "\n",
        "plt.plot(dayOfYear,(statsSantaClara['tempTheory']-1)/16+.982,'m')\n",
        "plt.plot(dayOfYear,(statsHalifax['tempTheory']-1)/8.56+.973,'r')\n",
        "plt.plot(dayOfYear,(statsKisumu['tempTheory']-1)/25+.995,'g')\n",
        "plt.plot(dayOfYear,(statsBrisbane['tempTheory']-1)/21+.990,'b')\n",
        "plt.plot(dayOfYear,(statsBuenosAires['tempTheory']-1)/19+.982,'c')"
      ],
      "execution_count": null,
      "outputs": [
        {
          "output_type": "stream",
          "text": [
            "37.3541\n",
            "44.6488\n",
            "-0.0917\n",
            "-27.4698\n",
            "-34.6037\n"
          ],
          "name": "stdout"
        },
        {
          "output_type": "execute_result",
          "data": {
            "text/plain": [
              "[<matplotlib.lines.Line2D at 0x7fea30378a90>]"
            ]
          },
          "metadata": {
            "tags": []
          },
          "execution_count": 84
        },
        {
          "output_type": "display_data",
          "data": {
            "image/png": "[encoded data removed]",
            "text/plain": [
              "<Figure size 432x288 with 1 Axes>"
            ]
          },
          "metadata": {
            "tags": [],
            "needs_background": "light"
          }
        }
      ]
    },
    {
      "cell_type": "markdown",
      "metadata": {
        "id": "v0HHpsi2yvmN"
      },
      "source": [
        "**Scale Factors and Offsets**\n",
        "\n",
        "Santa Clara: /16 + 0.982\n",
        "\n",
        "Halifax: /8.56 + 0.973\n",
        "\n",
        "Kisumu: /25 + 0.995\n",
        "\n",
        "Brisbane: /21 + 0.990\n",
        "\n",
        "Buenos Aires: /19 + 0.982"
      ]
    },
    {
      "cell_type": "markdown",
      "metadata": {
        "id": "OQoLG4Ru38XL"
      },
      "source": [
        "## Question 3 - Kater's Pendulum"
      ]
    },
    {
      "cell_type": "markdown",
      "metadata": {
        "id": "qqCiNCgC38XM"
      },
      "source": [
        "Begin with the example Jupyter Notebook called KaterPendulum.ipynb.  Carry out a full analysis of the data obtained in the subdirectory called ~/KaterPendulum/data/scan2.  The file in this directory called kater_scan2_c2.dat will tell you what the x-positions of the small mass were (they are slightly different than in the example we covered in class).\n",
        "\n",
        "Think about how to \"clean\" the raw data before proceeding with the fits.\n",
        "\n",
        "What value of g is the \"best\" value for this data?  What value of the \"fudge factor\" offset gives the best comparison of the theory to the data? Is this a reasonable offset?"
      ]
    },
    {
      "cell_type": "code",
      "metadata": {
        "id": "KhhLfoHK38XM"
      },
      "source": [
        ""
      ],
      "execution_count": null,
      "outputs": []
    }
  ]
}