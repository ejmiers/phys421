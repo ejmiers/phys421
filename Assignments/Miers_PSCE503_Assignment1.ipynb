{
  "nbformat": 4,
  "nbformat_minor": 0,
  "metadata": {
    "kernelspec": {
      "display_name": "Python 3",
      "language": "python",
      "name": "python3"
    },
    "language_info": {
      "codemirror_mode": {
        "name": "ipython",
        "version": 3
      },
      "file_extension": ".py",
      "mimetype": "text/x-python",
      "name": "python",
      "nbconvert_exporter": "python",
      "pygments_lexer": "ipython3",
      "version": "3.6.8"
    },
    "colab": {
      "name": "Miers_PSCE503_Assignment1.ipynb",
      "provenance": []
    }
  },
  "cells": [
    {
      "cell_type": "markdown",
      "metadata": {
        "id": "8GP5FaMn781u",
        "colab_type": "text"
      },
      "source": [
        "PCSE 503\n",
        "\n",
        "Eric Miers\n",
        "\n",
        "September 11, 2020\n",
        "\n",
        "Code referenced from root_basic.ipynb - Dr. Edward Brash\n",
        "\n",
        "Code referenced from root_find_complete.ipynb - Dr. Edward Brash\n",
        "\n",
        "Code referenced from LinearRegression.ipynb - Dr. Edward Brash\n",
        "\n"
      ]
    },
    {
      "cell_type": "markdown",
      "metadata": {
        "id": "jUt4sOrJXoSH",
        "colab_type": "text"
      },
      "source": [
        "# Assignment 1"
      ]
    },
    {
      "cell_type": "markdown",
      "metadata": {
        "id": "fe7V1x9JXoSJ",
        "colab_type": "text"
      },
      "source": [
        "## Question 1 - Root finding using bisection method"
      ]
    },
    {
      "cell_type": "markdown",
      "metadata": {
        "id": "dZGCnTiMXoSK",
        "colab_type": "text"
      },
      "source": [
        "Begin by considering the polynomial:\n",
        "\n",
        "$f(x) = 1.80 - 4.05x + 0.40x^2 + x^3$\n",
        " \n",
        "which has three real roots at $x=-2.5,0.5,1.5$.\n",
        "\n",
        "a)\tCalculate the roots of this polynomial using the bisection algorithm. You can start with the file called root_find_basic.ipynb and then modify as appropriate.  The program should fill an array of 10,000 data points between $x=-4.0$ and $x=4.0$.  Then, the program should do a sparse search of this array, i.e. once every n_search elements, to look for sign changes, and subsequently using the bisection algorithm to find the root.  The program should also keep track of the time taken to find the roots.\n",
        "\n",
        "b)\tCreate a plot of the time taken to find the roots vs. the sparsification size (n_search), for n_search values between 1 and 10,000.  You can start with root_find_complete.ipynb and then modify it.\n",
        "\n",
        "c)\tDeduce the source of the various patterns that you observe in part b).  Hint:  You might consider adjusting the number of data points in the original array, as well as the coefficients of the polynomial, slightly.\n",
        "\n",
        "d)\tModify the code created in part a) to allow for the possibility to find the roots of other polynomials or functions."
      ]
    },
    {
      "cell_type": "code",
      "metadata": {
        "id": "GA8yo2JBt50I",
        "colab_type": "code",
        "colab": {}
      },
      "source": [
        "import numpy as np\n",
        "import matplotlib.pyplot as plt\n",
        "import time"
      ],
      "execution_count": 47,
      "outputs": []
    },
    {
      "cell_type": "code",
      "metadata": {
        "id": "0717bu7eX8Wu",
        "colab_type": "code",
        "colab": {}
      },
      "source": [
        "# Create a generator function for the polynomial\n",
        "def generatorFunction(x, *par):\n",
        "  return (par[0]*x**3) + (par[1]*x**2) + (par[2]*x) + (par[3])"
      ],
      "execution_count": 48,
      "outputs": []
    },
    {
      "cell_type": "code",
      "metadata": {
        "id": "AmmDebhclCSc",
        "colab_type": "code",
        "colab": {}
      },
      "source": [
        "def rootBisection(xData, yData, xLow, xHigh, nPoints, nSearch, *par, xStep=None, yStep=None, nRootsExpected=None):\n",
        "  # calculate the number of slices\n",
        "  nIter = nPoints/nSearch\n",
        "\n",
        "  # use the left most data point in the first slice as the comparison point, and keep track of the number of roots found\n",
        "  yComp = yData[0]\n",
        "  nRootsFound = 0\n",
        "\n",
        "  # data structures to hold roots\n",
        "  xRoots = []\n",
        "  yRoots = []\n",
        "\n",
        "\n",
        "  # Start timer before root searching begins\n",
        "  start = time.time()\n",
        "\n",
        "  # Loop over the slices\n",
        "  for i in range(0, int(nIter)):\n",
        "\n",
        "    # Begin at the right most data point in the slice\n",
        "      y = yData[nSearch*i]\n",
        "      \n",
        "      # Check to see if we got lucky and landed on an exact zero of the function\n",
        "      if (y==0):\n",
        "          print (\"Found exact root at x = %f\\n\" % xData[nSearch*i])\n",
        "          xRoots.append(xData[nSearch*i])\n",
        "          yRoots.append(0.0)\n",
        "          nRootsFound += 1\n",
        "          \n",
        "      # Otherwise, check to see if there is a root in between the left and right comparison points\n",
        "      elif (y * yComp  < 0.0):\n",
        "          # There is a root in the interval, so apply Newton's algorithm / bisection method\n",
        "          #\n",
        "          # First, get the x-values of the left and right ends of the slice\n",
        "          xLow = xData[nSearch*(i-1)]\n",
        "          xHigh = xData[nSearch*i]\n",
        "          # define a \"tolerance\" at which point we will say we have found a zero\n",
        "          epsilon = 1.48E-8\n",
        "          \n",
        "          diff = float('inf') #1.0E12\n",
        "          while (diff > epsilon):\n",
        "              # Calculate the function values at the left, right, and midpoints of the slice\n",
        "              fa = generatorFunction(xLow, *par)\n",
        "              fb = generatorFunction(xHigh, *par)\n",
        "              xMid = (xHigh + xLow)/2.0\n",
        "              fc = generatorFunction(xMid, *par)\n",
        "              \n",
        "              # Decide if the root is in the left half or right half of the interval, and redefine\n",
        "              # the x interval accordingly\n",
        "              product = fa * fc\n",
        "              if (product < 0):\n",
        "                  xHigh = xMid\n",
        "              else:\n",
        "                  xLow = xMid\n",
        "\n",
        "              # update the difference value\n",
        "              diff = np.abs(fc)\n",
        "\n",
        "          print (\"Found root at x = %f\\n\" % xMid)\n",
        "          xRoots.append(xMid)\n",
        "          yRoots.append(0.0)\n",
        "          nRootsFound += 1\n",
        "          \n",
        "          # move to the next slice\n",
        "          yComp = y\n",
        "      else:\n",
        "          # move to the next slice\n",
        "          yComp = y\n",
        "  \n",
        "  if isinstance(xStep, list):\n",
        "    xStep.append(nSearch)\n",
        "\n",
        "  # Get the endtime for the algorithm\n",
        "  end = time.time()\n",
        "  timeEJB = float(end - start)\n",
        "\n",
        "  if nRootsExpected and nRootsFound == nRootsExpected:\n",
        "    yStep.append(1000.0*(timeEJB))\n",
        "  elif nRootsExpected:\n",
        "    yStep.append(30)\n",
        "\n",
        "  # Return all of the data from the algorithm\n",
        "  return (xRoots, yRoots, xStep, yStep, nRootsFound, timeEJB)"
      ],
      "execution_count": 49,
      "outputs": []
    },
    {
      "cell_type": "code",
      "metadata": {
        "id": "WLFdGYwukaKr",
        "colab_type": "code",
        "colab": {
          "base_uri": "https://localhost:8080/",
          "height": 170
        },
        "outputId": "e7bf051b-719f-4683-ac55-30ed2d27a394"
      },
      "source": [
        "# PART A - Find the roots of the given function using the bisection alogirthm\n",
        "\n",
        "# Set the x limits and number of points, calculate the interval\n",
        "xLow = -4.0\n",
        "xHigh = 4.0\n",
        "nPoints = 1e4\n",
        "\n",
        "dx = (xHigh - xLow) / nPoints\n",
        "\n",
        "functionCoefficients = [1.0, 0.40, -4.05, 1.80] # f(x) = x^3 + 0.40x^2 -4.05x + 1.80\n",
        "par = np.array(functionCoefficients)\n",
        "\n",
        "# Define the data arrays (x and y)\n",
        "xData = np.arange(xLow, xHigh, dx)\n",
        "yData = generatorFunction(xData, *par)\n",
        "\n",
        "# Define the size of the \"slices\" in x in which we will look for roots.\n",
        "nSearch = 1000\n",
        "\n",
        "# Run the bisection algorthm using our setup\n",
        "rootStats = rootBisection(xData, yData, xLow, xHigh, nPoints, nSearch, *par)\n",
        "\n",
        "print(\"Total number of roots found: %d\\n\" % rootStats[4])\n",
        "print(\"Runtime: {}\".format(rootStats[5]))"
      ],
      "execution_count": 51,
      "outputs": [
        {
          "output_type": "stream",
          "text": [
            "Found root at x = -2.400000\n",
            "\n",
            "Found root at x = 0.500000\n",
            "\n",
            "Found root at x = 1.500000\n",
            "\n",
            "Total number of roots found: 3\n",
            "\n",
            "Runtime: 0.0017671585083007812\n"
          ],
          "name": "stdout"
        }
      ]
    },
    {
      "cell_type": "code",
      "metadata": {
        "id": "8oOeFi51v46R",
        "colab_type": "code",
        "colab": {
          "base_uri": "https://localhost:8080/",
          "height": 279
        },
        "outputId": "ecba8166-00d5-461b-feb9-5b093fc71000"
      },
      "source": [
        "# PART B - Create a plot of the time taken to find the roots vs. the sparsification size (n_search), for n_search values between 1 and 10,000.\n",
        "\n",
        "nRootsExpected = 3\n",
        "xStep = []\n",
        "yStep = []\n",
        "\n",
        "for nSearch in range(1, int(nPoints)):\n",
        "  rootStats = rootBisection(xData, yData, xLow, xHigh, nPoints, nSearch, *par, xStep=xStep, yStep=yStep, nRootsExpected=nRootsExpected)\n",
        "  xStep = rootStats[2]\n",
        "  yStep = rootStats[3]\n",
        "\n",
        "# Clean up the console for the plot\n",
        "from IPython.display import clear_output\n",
        "clear_output()\n",
        "\n",
        "# Generate the figure and the axes \n",
        "fig, axs = plt.subplots(nrows=1, ncols=1) \n",
        "\n",
        "# On the first axis, plot the sine and label the ordinate\n",
        "plt.yscale('log')\n",
        "axs.plot(xStep, yStep,'.')\n",
        "axs.set_ylabel('Time (ms)')\n",
        "axs.set_xlabel('Interval size')\n",
        "axs.axhline()\n",
        "plt.grid(True)\n",
        "axs.set_xlim(1100,1200)\n",
        "plt.show()\n"
      ],
      "execution_count": 52,
      "outputs": [
        {
          "output_type": "display_data",
          "data": {
            "image/png": "[encoded data removed]",
            "text/plain": [
              "<Figure size 432x288 with 1 Axes>"
            ]
          },
          "metadata": {
            "tags": [],
            "needs_background": "light"
          }
        }
      ]
    },
    {
      "cell_type": "code",
      "metadata": {
        "id": "8d7G_RYrp6v4",
        "colab_type": "code",
        "colab": {
          "base_uri": "https://localhost:8080/",
          "height": 284
        },
        "outputId": "e2ab68c1-0573-47a0-bac6-455f324a9b31"
      },
      "source": [
        "# PART C - Deduce Source of Patterns\n",
        "\n",
        "# Set the x limits and number of points, calculate the interval\n",
        "xLow = -4.0\n",
        "xHigh = 4.0\n",
        "nPoints = 1e7\n",
        "\n",
        "dx = (xHigh - xLow) / nPoints\n",
        "\n",
        "functionCoefficients = [1.8, 0.30, -4.20, 1.50] \n",
        "par2 = np.array(functionCoefficients)\n",
        "\n",
        "# Define the data arrays (x and y)\n",
        "xData = np.arange(xLow, xHigh, dx)\n",
        "yData = generatorFunction(xData, *par2)\n",
        "\n",
        "# Define the size of the \"slices\" in x in which we will look for roots.\n",
        "nSearch = 1000\n",
        "nRootsExpected = 3\n",
        "xStep = []\n",
        "yStep = []\n",
        "\n",
        "for nSearch in range(1, int(10000)):\n",
        "  rootStats = rootBisection(xData, yData, xLow, xHigh, nPoints, nSearch, *par2, xStep=xStep, yStep=yStep, nRootsExpected=nRootsExpected)\n",
        "  xStep = rootStats[2]\n",
        "  yStep = rootStats[3]\n",
        "\n",
        "# Clean up the console for the plot\n",
        "from IPython.display import clear_output\n",
        "clear_output()\n",
        "\n",
        "# Generate the figure and the axes \n",
        "fig, axs = plt.subplots(nrows=1, ncols=1) \n",
        "\n",
        "# On the first axis, plot the sine and label the ordinate\n",
        "plt.yscale('log')\n",
        "axs.plot(xStep, yStep,'.')\n",
        "axs.set_ylabel('Time (ms)')\n",
        "axs.set_xlabel('Interval size')\n",
        "axs.axhline()\n",
        "plt.grid(True)\n",
        "axs.set_xlim(min(xStep),max(xStep))\n",
        "plt.show()"
      ],
      "execution_count": 53,
      "outputs": [
        {
          "output_type": "display_data",
          "data": {
            "image/png": "[encoded data removed]",
            "text/plain": [
              "<Figure size 432x288 with 1 Axes>"
            ]
          },
          "metadata": {
            "tags": [],
            "needs_background": "light"
          }
        }
      ]
    },
    {
      "cell_type": "markdown",
      "metadata": {
        "id": "w9hH4Ya89OWQ",
        "colab_type": "text"
      },
      "source": [
        "The algorithm's runtime behavior is logarithmic, with the runtime converging to 1ms as the number of slices increase. This behavior makes sense as the number of slices increase, there are fewer iterations required to reach the root threshold as the distance between a and b are reduced. As the number of data points increases, it takes a larger number of slices for the algorithm to converge. The initial runtime also increases by a power ten as the number of data points increase by a power of ten."
      ]
    },
    {
      "cell_type": "code",
      "metadata": {
        "colab_type": "code",
        "id": "Ws4gtFkjp8w8",
        "colab": {
          "base_uri": "https://localhost:8080/",
          "height": 102
        },
        "outputId": "6b261dc9-f4ca-482b-8d97-0e1ad7c769c1"
      },
      "source": [
        "# PART D - Modify code to find roots of any polynomial\n",
        "\n",
        "# Create a generator function for the polynomial\n",
        "def generatorFunctionNew(x, coef, pow):\n",
        "\n",
        "  # Make sure each term has an associated power\n",
        "  if len(coef) != len(pow):\n",
        "    print(\"ERROR - Length of the power array must match the length of the coefficient array\")\n",
        "    return\n",
        "\n",
        "  # Compute f(x)\n",
        "  fX = 0.0\n",
        "  for i in range(0, len(coef)):\n",
        "    fX += coef[i] * x**pow[i]\n",
        "\n",
        "  return fX\n",
        "\n",
        "\n",
        "def rootBisectionNew(xData, yData, xLow, xHigh, nPoints, nSearch, coef, pow, xStep=None, yStep=None, nRootsExpected=None):\n",
        "  # calculate the number of slices\n",
        "  nIter = nPoints/nSearch\n",
        "\n",
        "  # use the left most data point in the first slice as the comparison point, and keep track of the number of roots found\n",
        "  yComp = yData[0]\n",
        "  nRootsFound = 0\n",
        "\n",
        "  # data structures to hold roots\n",
        "  xRoots = []\n",
        "  yRoots = []\n",
        "\n",
        "\n",
        "  # Start timer before root searching begins\n",
        "  start = time.time()\n",
        "\n",
        "  # Loop over the slices\n",
        "  for i in range(0, int(nIter)):\n",
        "\n",
        "    # Begin at the right most data point in the slice\n",
        "      y = yData[nSearch*i]\n",
        "      \n",
        "      # Check to see if we got lucky and landed on an exact zero of the function\n",
        "      if (y==0):\n",
        "          print (\"Found exact root at x = %f\\n\" % xData[nSearch*i])\n",
        "          xRoots.append(xData[nSearch*i])\n",
        "          yRoots.append(0.0)\n",
        "          nRootsFound += 1\n",
        "          \n",
        "      # Otherwise, check to see if there is a root in between the left and right comparison points\n",
        "      elif (y * yComp  < 0.0):\n",
        "          # There is a root in the interval, so apply Newton's algorithm / bisection method\n",
        "          #\n",
        "          # First, get the x-values of the left and right ends of the slice\n",
        "          xLow = xData[nSearch*(i-1)]\n",
        "          xHigh = xData[nSearch*i]\n",
        "          # define a \"tolerance\" at which point we will say we have found a zero\n",
        "          epsilon = 1.48E-8\n",
        "          \n",
        "          diff = float('inf') #1.0E12\n",
        "          while (diff > epsilon):\n",
        "              # Calculate the function values at the left, right, and midpoints of the slice\n",
        "              fa = generatorFunctionNew(xLow, coef, pow)\n",
        "              fb = generatorFunctionNew(xHigh, coef, pow)\n",
        "              xMid = (xHigh + xLow)/2.0\n",
        "              fc = generatorFunctionNew(xMid, coef, pow)\n",
        "              \n",
        "              # Decide if the root is in the left half or right half of the interval, and redefine\n",
        "              # the x interval accordingly\n",
        "              product = fa * fc\n",
        "              if (product < 0):\n",
        "                  xHigh = xMid\n",
        "              else:\n",
        "                  xLow = xMid\n",
        "\n",
        "              # update the difference value\n",
        "              diff = np.abs(fc)\n",
        "\n",
        "          print (\"Found root at x = %f\\n\" % xMid)\n",
        "          xRoots.append(xMid)\n",
        "          yRoots.append(0.0)\n",
        "          nRootsFound += 1\n",
        "          \n",
        "          # move to the next slice\n",
        "          yComp = y\n",
        "      else:\n",
        "          # move to the next slice\n",
        "          yComp = y\n",
        "  \n",
        "  if isinstance(xStep, list):\n",
        "    xStep.append(nSearch)\n",
        "\n",
        "  # Get the endtime for the algorithm\n",
        "  end = time.time()\n",
        "  timeEJB = float(end - start)\n",
        "\n",
        "  if nRootsExpected and nRootsFound == nRootsExpected:\n",
        "    yStep.append(1000.0*(timeEJB))\n",
        "  elif nRootsExpected:\n",
        "    yStep.append(30)\n",
        "\n",
        "  # Return all of the data from the algorithm\n",
        "  return (xRoots, yRoots, xStep, yStep, nRootsFound, timeEJB)\n",
        "\n",
        "\n",
        "# Set the x limits and number of points, calculate the interval\n",
        "xLow = -4.0\n",
        "xHigh = 4.0\n",
        "nPoints = 1e4\n",
        "\n",
        "dx = (xHigh - xLow) / nPoints\n",
        "\n",
        "# f(x) = 13.7x^5 + 3x^4 + 2.5x^3 - x^2 + 3x - 7,  root(s): x = 0.752\n",
        "functionCoefficients = [13.7, 3.0, 2.5, -1.0, 3.0, -7]\n",
        "functionPowers = [5.0, 4.0, 3.0, 2.0, 1.0, 0.0]\n",
        "coef = np.array(functionCoefficients)\n",
        "pow = np.array(functionPowers)\n",
        "\n",
        "# Define the data arrays (x and y)\n",
        "xData = np.arange(xLow, xHigh, dx)\n",
        "yData = generatorFunctionNew(xData, coef, pow)\n",
        "\n",
        "# Define the size of the \"slices\" in x in which we will look for roots.\n",
        "nSearch = 1000\n",
        "\n",
        "# Run the bisection algorthm using our setup\n",
        "rootStats = rootBisectionNew(xData, yData, xLow, xHigh, nPoints, nSearch, coef, pow)\n",
        "\n",
        "print(\"Total number of roots found: %d\\n\" % rootStats[4])\n",
        "print(\"Runtime: {}\".format(rootStats[5]))"
      ],
      "execution_count": 55,
      "outputs": [
        {
          "output_type": "stream",
          "text": [
            "Found root at x = 0.751765\n",
            "\n",
            "Total number of roots found: 1\n",
            "\n",
            "Runtime: 0.0006885528564453125\n"
          ],
          "name": "stdout"
        }
      ]
    },
    {
      "cell_type": "markdown",
      "metadata": {
        "id": "bYlrxhyZXoSN",
        "colab_type": "text"
      },
      "source": [
        "## Question 2 - Fitting data"
      ]
    },
    {
      "cell_type": "markdown",
      "metadata": {
        "id": "ViQKPPSTXoSO",
        "colab_type": "text"
      },
      "source": [
        "a) Go to the following site and retrieve data on the density of air as a function of altitude:\n",
        "\n",
        "http://www.engineeringtoolbox.com/standard-atmosphere-d_604.html\n",
        "\n",
        "Make sure to use the second table, in SI units.  \n",
        "\n",
        "b) Modify the Jupyter Notebook that we went through in class for Linear Regression to fit the density data as a function of altitude using a function of the form:\n",
        "\n",
        "$f(x)= Ae^{Bx+C\\sqrt{x}}$\n",
        "\n",
        "c) Determine the parameters A, B, and C, as well as the uncertainties on these parameters.\n",
        "\n",
        "d) Plot the fit, including 95% confidence interval error bands, along with the data.  What is your evaluation of the quality of the fit?  Can you think of a different approach that might yield a better fit?"
      ]
    },
    {
      "cell_type": "code",
      "metadata": {
        "id": "GIsRaoRCXoSO",
        "colab_type": "code",
        "colab": {
          "base_uri": "https://localhost:8080/",
          "height": 51
        },
        "outputId": "29a0cff5-b77e-4230-9194-fc7eb1a19152"
      },
      "source": [
        "import numpy as np\n",
        "import pandas as pd\n",
        "import matplotlib.pyplot as plt\n",
        "import statsmodels.formula.api as sm\n",
        "from scipy.optimize import curve_fit\n",
        "\n",
        "# PART A - Load the Dataset\n",
        "\n",
        "# Load the dataset as a pandas frame\n",
        "url = \"http://www.engineeringtoolbox.com/standard-atmosphere-d_604.html\"\n",
        "dfs =  pd.read_html(url)\n",
        "\n",
        "# We're interested int the second table on the page, rename columns for ease of use\n",
        "table = dfs[1]\n",
        "table = table.rename(columns={\"Density - ρ - (kg/m3)\": \"Density\", \"Geo potential Altitude above Sea Level - h - (m)\": \"Altitude\"})"
      ],
      "execution_count": 56,
      "outputs": [
        {
          "output_type": "stream",
          "text": [
            "/usr/local/lib/python3.6/dist-packages/statsmodels/tools/_testing.py:19: FutureWarning: pandas.util.testing is deprecated. Use the functions in the public API at pandas.testing instead.\n",
            "  import pandas.util.testing as tm\n"
          ],
          "name": "stderr"
        }
      ]
    },
    {
      "cell_type": "code",
      "metadata": {
        "id": "D76vD2IwOHSx",
        "colab_type": "code",
        "colab": {}
      },
      "source": [
        "# PART B - Create a custom Fit function\n",
        "\n",
        "# Create our custom fit function\n",
        "def fitFunction(x, *paramlist):\n",
        "  return paramlist[0]*np.exp(paramlist[1]*x + paramlist[2]*np.sqrt(x))"
      ],
      "execution_count": 57,
      "outputs": []
    },
    {
      "cell_type": "code",
      "metadata": {
        "id": "dHy6eGUhOuOi",
        "colab_type": "code",
        "colab": {
          "base_uri": "https://localhost:8080/",
          "height": 204
        },
        "outputId": "4a67d5fb-e89d-4388-bdee-5cd5f44fdc3b"
      },
      "source": [
        "# PART C - Determine Parameters and their Uncertainties\n",
        "\n",
        "init_vals = [0.0 for x in range(3)]\n",
        "x = np.array(table['Density'])\n",
        "y = np.array(table['Altitude'])\n",
        "popt, pcov = curve_fit(fitFunction, x, y, p0=init_vals)\n",
        "\n",
        "print(\"Coefficients (from curve_fit)\")\n",
        "print(\"{}\\n\".format(popt))\n",
        "print(\"Covariance Matrix (from curve_fit)\")\n",
        "print(\"{}\\n\".format(pcov))\n",
        "\n",
        "# Print the parameters and their uncertainties\n",
        "from math import sqrt\n",
        "print(\"A = {} +- {}\".format(popt[0], sqrt(pcov[0][0])))\n",
        "print(\"B = {} +- {}\".format(popt[1], sqrt(pcov[1][1])))\n",
        "print(\"C = {} +- {}\".format(popt[2], sqrt(pcov[2][2])))"
      ],
      "execution_count": 59,
      "outputs": [
        {
          "output_type": "stream",
          "text": [
            "Coefficients (from curve_fit)\n",
            "[ 6.99084729e+04  2.84513773e+00 -5.82953505e+00]\n",
            "\n",
            "Covariance Matrix (from curve_fit)\n",
            "[[ 9.50176786e+06  1.43819299e+03 -1.44067875e+03]\n",
            " [ 1.43819299e+03  1.00474865e+00 -7.23497856e-01]\n",
            " [-1.44067875e+03 -7.23497856e-01  6.50366218e-01]]\n",
            "\n",
            "A = 69908.47285902807 +- 3082.493772107582\n",
            "B = 2.845137727987083 +- 1.002371514628775\n",
            "C = -5.829535053871819 +- 0.8064528617797108\n"
          ],
          "name": "stdout"
        }
      ]
    },
    {
      "cell_type": "code",
      "metadata": {
        "id": "1ZQfX0v_O6QS",
        "colab_type": "code",
        "colab": {
          "base_uri": "https://localhost:8080/",
          "height": 279
        },
        "outputId": "3b8ca71f-e276-424b-ead7-9f96f62bfebf"
      },
      "source": [
        "# PART D -  Plot the data with 95% CI\n",
        "\n",
        "import seaborn as sns\n",
        "sns.regplot('Density', 'Altitude', table, ci=95)\n",
        "\n",
        "xi = np.linspace(np.min(x),np.max(x),100)\n",
        "ps = np.random.multivariate_normal(popt,pcov,10000)\n",
        "ysample=np.asarray([fitFunction(xi,*pi) for pi in ps])\n",
        "lower = np.percentile(ysample,2.5,axis=0)\n",
        "upper = np.percentile(ysample,97.5,axis=0)\n",
        "middle = (lower+upper)/2.0\n",
        "\n",
        "plt.plot(xi,middle)\n",
        "plt.plot(xi,lower)\n",
        "plt.plot(xi,upper)\n",
        "plt.show()"
      ],
      "execution_count": 60,
      "outputs": [
        {
          "output_type": "display_data",
          "data": {
            "image/png": "[encoded data removed]",
            "text/plain": [
              "<Figure size 432x288 with 1 Axes>"
            ]
          },
          "metadata": {
            "tags": [],
            "needs_background": "light"
          }
        }
      ]
    },
    {
      "cell_type": "markdown",
      "metadata": {
        "id": "MbCXtGTCRwrx",
        "colab_type": "text"
      },
      "source": [
        "The model appears to be a pretty close fit, and is significantly better than the linear regression model. However, The model does appear to skew away from the data at around 1 kg/m3 as the data points begin trending below the lower uncertainty curve. One thing that could be done is identifying and eliminating statistical outliers before fitting. Trying different models can help find a fit that represents the data closer through RMSE. The use of a predicitve model over a non-linear regression model might be able to develop a closer match to the data (but would require more data to learn trends, and you have to be more careful about not overfitting)."
      ]
    }
  ]
}