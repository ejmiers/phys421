{
 "cells": [
  {
   "cell_type": "code",
   "execution_count": 1,
   "metadata": {},
   "outputs": [
    {
     "name": "stderr",
     "output_type": "stream",
     "text": [
      "WARNING: KICAD_SYMBOL_DIR environment variable is missing, so the default KiCad symbol libraries won't be searched.\n"
     ]
    },
    {
     "name": "stdout",
     "output_type": "stream",
     "text": [
      "{'kicad': ['.'], 'skidl': ['.', '/usr/local/lib/python3.6/site-packages/skidl/libs'], 'spice': ['.']}\n"
     ]
    }
   ],
   "source": [
    "import matplotlib.pyplot as plt\n",
    "import numpy as np\n",
    "%matplotlib inline\n",
    "\n",
    "from skidl.pyspice import *\n",
    "print(lib_search_paths)"
   ]
  },
  {
   "cell_type": "code",
   "execution_count": 2,
   "metadata": {},
   "outputs": [
    {
     "name": "stderr",
     "output_type": "stream",
     "text": [
      "\n",
      "No errors or warnings found during netlist generation.\n",
      "\n"
     ]
    },
    {
     "name": "stdout",
     "output_type": "stream",
     "text": [
      "   V    I (mA)\n",
      "===============\n",
      "  0.00  -0.00\n",
      "  0.10   0.10\n",
      "  0.20   0.20\n",
      "  0.30   0.30\n",
      "  0.40   0.40\n",
      "  0.50   0.50\n",
      "  0.60   0.60\n",
      "  0.70   0.70\n",
      "  0.80   0.80\n",
      "  0.90   0.90\n",
      "  1.00   1.00\n"
     ]
    },
    {
     "data": {
      "image/png": "[encoded data removed]",
      "text/plain": [
       "<Figure size 432x288 with 1 Axes>"
      ]
     },
     "metadata": {
      "needs_background": "light"
     },
     "output_type": "display_data"
    }
   ],
   "source": [
    "reset()  # This will clear any previously defined circuitry.\n",
    "\n",
    "# Create and interconnect the components.\n",
    "vs = V(ref='VS', dc_value = 1 @ u_V)  # Create a voltage source named \"VS\" with an initial value of 1 volt.\n",
    "r1 = R(value = 1 @ u_kOhm)            # Create a 1 Kohm resistor.\n",
    "vs['p'] += r1[1]       # Connect one end of the resistor to the positive terminal of the voltage source.\n",
    "gnd += vs['n'], r1[2]  # Connect the other end of the resistor and the negative terminal of the source to ground.\n",
    "\n",
    "# Simulate the circuit.\n",
    "circ = generate_netlist()              # Translate the SKiDL code into a PyCircuit Circuit object.\n",
    "sim = circ.simulator()                 # Create a simulator for the Circuit object.\n",
    "dc_vals = sim.dc(VS=slice(0, 1, 0.1))  # Run a DC simulation where the voltage ramps from 0 to 1V by 0.1V increments.\n",
    "\n",
    "# Get the voltage applied to the resistor and the current coming out of the voltage source.\n",
    "voltage = dc_vals[node(vs['p'])]       # Get the voltage applied by the positive terminal of the source.\n",
    "current = -dc_vals['VS']               # Get the current coming out of the positive terminal of the voltage source.\n",
    "\n",
    "# Print a table showing the current through the resistor for the various applied voltages.\n",
    "print('{:^7s}{:^7s}'.format('V', ' I (mA)'))\n",
    "print('='*15)\n",
    "for v, i in zip(voltage.as_ndarray(), current.as_ndarray()*1000):\n",
    "    print('{:6.2f} {:6.2f}'.format(v, i))\n",
    "\n",
    "# Create a plot of the current (Y coord) versus the applied voltage (X coord).\n",
    "figure = plt.figure(1)\n",
    "plt.title('Resistor Current vs. Applied Voltage')\n",
    "plt.xlabel('Voltage (V)')\n",
    "plt.ylabel('Current (mA)')\n",
    "plt.plot(voltage, current*1000) # Plot X=voltage and Y=current (in milliamps, so multiply it by 1000).\n",
    "plt.show()"
   ]
  }
 ],
 "metadata": {
  "kernelspec": {
   "display_name": "Python 3",
   "language": "python",
   "name": "python3"
  },
  "language_info": {
   "codemirror_mode": {
    "name": "ipython",
    "version": 3
   },
   "file_extension": ".py",
   "mimetype": "text/x-python",
   "name": "python",
   "nbconvert_exporter": "python",
   "pygments_lexer": "ipython3",
   "version": "3.6.8"
  }
 },
 "nbformat": 4,
 "nbformat_minor": 2
}
