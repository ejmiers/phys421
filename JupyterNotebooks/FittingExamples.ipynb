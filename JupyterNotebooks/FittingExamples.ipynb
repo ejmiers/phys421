{
 "cells": [
  {
   "cell_type": "markdown",
   "metadata": {},
   "source": [
    "# Fitting Stuff\n",
    "\n",
    "We have already seen examples of both linear and non-linear regression fits to data.  In most (maybe all?) experiments though, we often have uncertainties associated with each data point.  We should understand more about how this affects the fitting procedure.\n",
    "\n",
    "The linear/non-linear regression examples that we have studied thus far use a method called \"Ordinary Least Squares\".  The basic theory behind this is:\n",
    "\n",
    "$\\chi^2 = \\sum_i^N (y_i - y_{fit}(x_i))^2$\n",
    "\n",
    "where $y_{fit} = f(a,b,c,...)$ is the fitting function.  The idea is that we must solve the set of equations defined by:\n",
    "\n",
    "$\\frac{\\partial \\chi^2}{\\partial a} = 0, \\frac{\\partial \\chi^2}{\\partial b} = 0, \\frac{\\partial \\chi^2}{\\partial c} = 0, ...$\n",
    "\n",
    "In the case of polynomial fitting functions (or any order), the values of the polynomial coefficients are uniquely defined.  That is, there is a single global minimum in the $\\chi^2$ function.  For other non-linear fitting functions, there may be local minima in the $\\chi^2$ function, and this requires that we provide initial starting values for the parameters of the fitting function that are close to the global minimum.\n",
    "\n",
    "When we have uncertainties for each of the $N$ data points, the definition of $\\chi^2$ becomes:\n",
    "\n",
    "$\\chi^2 = \\sum_i^N \\left (\\frac{y_i - y_{fit}(x_i)}{\\sigma_i}\\right)^2$"
   ]
  },
  {
   "cell_type": "markdown",
   "metadata": {},
   "source": [
    "### Let us now investigate how uncertainties affect both (a) the fit parameters and (b) the confidence interval on the fit."
   ]
  },
  {
   "cell_type": "code",
   "execution_count": 1,
   "metadata": {},
   "outputs": [],
   "source": [
    "import numpy as np\n",
    "import pandas as pd\n",
    "import matplotlib.pyplot as plt\n",
    "import scipy.stats as stats"
   ]
  },
  {
   "cell_type": "code",
   "execution_count": 2,
   "metadata": {},
   "outputs": [],
   "source": [
    "# create some fake data\n",
    "\n",
    "npts = 11\n",
    "xlow = 0.5\n",
    "xhigh = 5.5\n",
    "\n",
    "xl = xlow + 0.01\n",
    "xmid = (xhigh+xlow)/2.0+0.01\n",
    "\n",
    "xi = np.linspace(xlow,xhigh,npts)\n",
    "yrandom = stats.norm.rvs(size=npts,loc=0,scale=.2)\n",
    "yi = xi + yrandom"
   ]
  },
  {
   "cell_type": "code",
   "execution_count": 3,
   "metadata": {},
   "outputs": [
    {
     "data": {
      "text/plain": [
       "[<matplotlib.lines.Line2D at 0x7f4307e66da0>]"
      ]
     },
     "execution_count": 3,
     "metadata": {},
     "output_type": "execute_result"
    },
    {
     "data": {
      "image/png": "[encoded data removed]",
      "text/plain": [
       "<Figure size 432x288 with 1 Axes>"
      ]
     },
     "metadata": {
      "needs_background": "light"
     },
     "output_type": "display_data"
    }
   ],
   "source": [
    "plt.plot(xi,yi,'o')"
   ]
  },
  {
   "cell_type": "markdown",
   "metadata": {},
   "source": [
    "## Case 1:  Linear Fit with No Uncertainties"
   ]
  },
  {
   "cell_type": "code",
   "execution_count": 4,
   "metadata": {},
   "outputs": [
    {
     "name": "stdout",
     "output_type": "stream",
     "text": [
      "Coefficients (from curve_fit)\n",
      "[-0.01744315  0.99767285]\n",
      "Covariance Matrix (from curve_fit)\n",
      "[[ 0.00842794 -0.00219859]\n",
      " [-0.00219859  0.00073286]]\n",
      "\n",
      "Final Result: y = (1.00 +/- 0.03) x + (-0.02 +/- 0.09)\n"
     ]
    },
    {
     "data": {
      "image/png": "[encoded data removed]",
      "text/plain": [
       "<Figure size 432x288 with 1 Axes>"
      ]
     },
     "metadata": {
      "needs_background": "light"
     },
     "output_type": "display_data"
    }
   ],
   "source": [
    "from scipy.optimize import curve_fit\n",
    "\n",
    "def fitfunction(x,*paramlist):\n",
    "    return paramlist[0]+paramlist[1]*x\n",
    "\n",
    "init_vals = [0.0 for x in range(2)]\n",
    "popt, pcov = curve_fit(fitfunction,xi,yi,p0=init_vals)\n",
    "perr = np.sqrt(np.diag(pcov))\n",
    "\n",
    "ps = np.random.multivariate_normal(popt,pcov,10000)\n",
    "ysample=np.asarray([fitfunction(xi,*pi) for pi in ps])\n",
    "\n",
    "lower = np.percentile(ysample,2.5,axis=0)\n",
    "upper = np.percentile(ysample,97.5,axis=0)\n",
    "middle = (lower+upper)/2.0\n",
    "\n",
    "print(\"Coefficients (from curve_fit)\")\n",
    "print (popt)\n",
    "print(\"Covariance Matrix (from curve_fit)\")\n",
    "print (pcov)\n",
    "\n",
    "print()\n",
    "print (\"Final Result: y = (%0.2f +/- %0.2f) x + (%0.2f +/- %0.2f)\" % (popt[1],perr[1],popt[0],perr[0]))\n",
    "\n",
    "plt.plot(xi,yi,'o')\n",
    "\n",
    "plt.plot(xi,middle)\n",
    "plt.plot(xi,lower)\n",
    "plt.plot(xi,upper)\n",
    "plt.show()\n",
    "\n",
    "slope = []\n",
    "dslope = []\n",
    "yint = []\n",
    "dyint = []\n",
    "type = []\n",
    "\n",
    "slope.append(popt[1])\n",
    "dslope.append(perr[1])\n",
    "yint.append(popt[0])\n",
    "dyint.append(perr[0])\n",
    "type.append('None')"
   ]
  },
  {
   "cell_type": "markdown",
   "metadata": {},
   "source": [
    "## Case 2:  Linear Fit with Uniform Uncertainties"
   ]
  },
  {
   "cell_type": "code",
   "execution_count": 5,
   "metadata": {},
   "outputs": [
    {
     "data": {
      "text/plain": [
       "<ErrorbarContainer object of 3 artists>"
      ]
     },
     "execution_count": 5,
     "metadata": {},
     "output_type": "execute_result"
    },
    {
     "data": {
      "image/png": "[encoded data removed]",
      "text/plain": [
       "<Figure size 432x288 with 1 Axes>"
      ]
     },
     "metadata": {
      "needs_background": "light"
     },
     "output_type": "display_data"
    }
   ],
   "source": [
    "sigmai = np.array([0.5 for i in range(npts)])\n",
    "plt.errorbar(xi, yi, yerr=sigmai, fmt='o', capsize=5, capthick=2)"
   ]
  },
  {
   "cell_type": "code",
   "execution_count": 6,
   "metadata": {},
   "outputs": [
    {
     "name": "stdout",
     "output_type": "stream",
     "text": [
      "Coefficients (from curve_fit)\n",
      "[-0.01744315  0.99767285]\n",
      "Covariance Matrix (from curve_fit)\n",
      "[[ 0.00842794 -0.00219859]\n",
      " [-0.00219859  0.00073286]]\n",
      "\n",
      "Final Result: y = (1.00 +/- 0.03) x + (-0.02 +/- 0.09)\n"
     ]
    },
    {
     "data": {
      "image/png": "[encoded data removed]",
      "text/plain": [
       "<Figure size 432x288 with 1 Axes>"
      ]
     },
     "metadata": {
      "needs_background": "light"
     },
     "output_type": "display_data"
    }
   ],
   "source": [
    "init_vals = [0.0 for x in range(2)]\n",
    "popt, pcov = curve_fit(fitfunction,xi,yi,p0=init_vals,sigma=sigmai)\n",
    "perr = np.sqrt(np.diag(pcov))\n",
    "\n",
    "ps = np.random.multivariate_normal(popt,pcov,10000)\n",
    "ysample=np.asarray([fitfunction(xi,*pi) for pi in ps])\n",
    "\n",
    "lower = np.percentile(ysample,2.5,axis=0)\n",
    "upper = np.percentile(ysample,97.5,axis=0)\n",
    "middle = (lower+upper)/2.0\n",
    "\n",
    "print(\"Coefficients (from curve_fit)\")\n",
    "print (popt)\n",
    "print(\"Covariance Matrix (from curve_fit)\")\n",
    "print (pcov)\n",
    "\n",
    "print()\n",
    "print (\"Final Result: y = (%0.2f +/- %0.2f) x + (%0.2f +/- %0.2f)\" % (popt[1],perr[1],popt[0],perr[0]))\n",
    "\n",
    "plt.errorbar(xi, yi, yerr=sigmai, fmt='o', capsize=5, capthick=2)\n",
    "\n",
    "plt.plot(xi,middle)\n",
    "plt.plot(xi,lower)\n",
    "plt.plot(xi,upper)\n",
    "plt.show()\n",
    "\n",
    "slope.append(popt[1])\n",
    "dslope.append(perr[1])\n",
    "yint.append(popt[0])\n",
    "dyint.append(perr[0])\n",
    "type.append('Uniform')"
   ]
  },
  {
   "cell_type": "markdown",
   "metadata": {},
   "source": [
    "## Case 3:  Linear Fit with Increasing Uncertainties"
   ]
  },
  {
   "cell_type": "code",
   "execution_count": 7,
   "metadata": {},
   "outputs": [
    {
     "data": {
      "text/plain": [
       "<ErrorbarContainer object of 3 artists>"
      ]
     },
     "execution_count": 7,
     "metadata": {},
     "output_type": "execute_result"
    },
    {
     "data": {
      "image/png": "[encoded data removed]",
      "text/plain": [
       "<Figure size 432x288 with 1 Axes>"
      ]
     },
     "metadata": {
      "needs_background": "light"
     },
     "output_type": "display_data"
    }
   ],
   "source": [
    "sigmai = np.array([0.1 + 0.25*(xi[i]-xl) for i in range(npts)])\n",
    "plt.errorbar(xi, yi, yerr=sigmai, fmt='o', capsize=5, capthick=2)"
   ]
  },
  {
   "cell_type": "code",
   "execution_count": 8,
   "metadata": {},
   "outputs": [
    {
     "name": "stdout",
     "output_type": "stream",
     "text": [
      "Coefficients (from curve_fit)\n",
      "[-0.00110432  0.98594044]\n",
      "Covariance Matrix (from curve_fit)\n",
      "[[ 0.00206967 -0.00129261]\n",
      " [-0.00129261  0.00151018]]\n",
      "\n",
      "Final Result: y = (0.99 +/- 0.04) x + (-0.00 +/- 0.05)\n"
     ]
    },
    {
     "data": {
      "image/png": "[encoded data removed]",
      "text/plain": [
       "<Figure size 432x288 with 1 Axes>"
      ]
     },
     "metadata": {
      "needs_background": "light"
     },
     "output_type": "display_data"
    }
   ],
   "source": [
    "init_vals = [0.0 for x in range(2)]\n",
    "popt, pcov = curve_fit(fitfunction,xi,yi,p0=init_vals,sigma=sigmai)\n",
    "perr = np.sqrt(np.diag(pcov))\n",
    "\n",
    "ps = np.random.multivariate_normal(popt,pcov,10000)\n",
    "ysample=np.asarray([fitfunction(xi,*pi) for pi in ps])\n",
    "\n",
    "lower = np.percentile(ysample,2.5,axis=0)\n",
    "upper = np.percentile(ysample,97.5,axis=0)\n",
    "middle = (lower+upper)/2.0\n",
    "\n",
    "print(\"Coefficients (from curve_fit)\")\n",
    "print (popt)\n",
    "print(\"Covariance Matrix (from curve_fit)\")\n",
    "print (pcov)\n",
    "\n",
    "print()\n",
    "print (\"Final Result: y = (%0.2f +/- %0.2f) x + (%0.2f +/- %0.2f)\" % (popt[1],perr[1],popt[0],perr[0]))\n",
    "\n",
    "plt.errorbar(xi, yi, yerr=sigmai, fmt='o', capsize=5, capthick=2)\n",
    "\n",
    "plt.plot(xi,middle)\n",
    "plt.plot(xi,lower)\n",
    "plt.plot(xi,upper)\n",
    "plt.show()\n",
    "\n",
    "slope.append(popt[1])\n",
    "dslope.append(perr[1])\n",
    "yint.append(popt[0])\n",
    "dyint.append(perr[0])\n",
    "type.append('Increasing')"
   ]
  },
  {
   "cell_type": "markdown",
   "metadata": {},
   "source": [
    "## Case 4:  Linear Fit with Increasing Uncertainties at Endpoints"
   ]
  },
  {
   "cell_type": "code",
   "execution_count": 9,
   "metadata": {},
   "outputs": [
    {
     "data": {
      "text/plain": [
       "<ErrorbarContainer object of 3 artists>"
      ]
     },
     "execution_count": 9,
     "metadata": {},
     "output_type": "execute_result"
    },
    {
     "data": {
      "image/png": "[encoded data removed]",
      "text/plain": [
       "<Figure size 432x288 with 1 Axes>"
      ]
     },
     "metadata": {
      "needs_background": "light"
     },
     "output_type": "display_data"
    }
   ],
   "source": [
    "sigmai = np.array([0.1+ 0.25*(xi[i]-xmid) for i in range(npts)])\n",
    "plt.errorbar(xi, yi, yerr=sigmai, fmt='o', capsize=5, capthick=2)"
   ]
  },
  {
   "cell_type": "code",
   "execution_count": 10,
   "metadata": {},
   "outputs": [
    {
     "name": "stdout",
     "output_type": "stream",
     "text": [
      "Coefficients (from curve_fit)\n",
      "[-0.25239676  1.05587524]\n",
      "Covariance Matrix (from curve_fit)\n",
      "[[ 0.03972162 -0.01539734]\n",
      " [-0.01539734  0.00607013]]\n",
      "\n",
      "Final Result: y = (1.06 +/- 0.08) x + (-0.25 +/- 0.20)\n"
     ]
    },
    {
     "data": {
      "image/png": "[encoded data removed]",
      "text/plain": [
       "<Figure size 432x288 with 1 Axes>"
      ]
     },
     "metadata": {
      "needs_background": "light"
     },
     "output_type": "display_data"
    }
   ],
   "source": [
    "init_vals = [0.0 for x in range(2)]\n",
    "popt, pcov = curve_fit(fitfunction,xi,yi,p0=init_vals,sigma=sigmai)\n",
    "perr = np.sqrt(np.diag(pcov))\n",
    "\n",
    "ps = np.random.multivariate_normal(popt,pcov,10000)\n",
    "ysample=np.asarray([fitfunction(xi,*pi) for pi in ps])\n",
    "\n",
    "lower = np.percentile(ysample,2.5,axis=0)\n",
    "upper = np.percentile(ysample,97.5,axis=0)\n",
    "middle = (lower+upper)/2.0\n",
    "\n",
    "print(\"Coefficients (from curve_fit)\")\n",
    "print (popt)\n",
    "print(\"Covariance Matrix (from curve_fit)\")\n",
    "print (pcov)\n",
    "\n",
    "print()\n",
    "print (\"Final Result: y = (%0.2f +/- %0.2f) x + (%0.2f +/- %0.2f)\" % (popt[1],perr[1],popt[0],perr[0]))\n",
    "\n",
    "plt.errorbar(xi, yi, yerr=sigmai, fmt='o', capsize=5, capthick=2)\n",
    "\n",
    "plt.plot(xi,middle)\n",
    "plt.plot(xi,lower)\n",
    "plt.plot(xi,upper)\n",
    "plt.show()\n",
    "\n",
    "slope.append(popt[1])\n",
    "dslope.append(perr[1])\n",
    "yint.append(popt[0])\n",
    "dyint.append(perr[0])\n",
    "type.append('Endpoints')"
   ]
  },
  {
   "cell_type": "markdown",
   "metadata": {},
   "source": [
    "## Preliminary Conclusions\n",
    "\n",
    "1. If the uncertainties are uniform, there is no impact on the uncertainties in the fit parameters, the uncertainties in the fit parameters, or the confidence bands.  This can be understood mathematically by considering the dependence of $\\chi^2$ on $\\sigma_i$; if all $\\sigma_i$ are the same, then there is no dependence of the derivatives of $\\chi^2$ on $\\sigma_i$.\n",
    "\n",
    "2. If the uncertainties are non-uniform, the resulting fit parameters and confidence bands will depend upon the $\\sigma_i$ in a complicated way!\n",
    "\n"
   ]
  },
  {
   "cell_type": "code",
   "execution_count": 11,
   "metadata": {},
   "outputs": [
    {
     "data": {
      "text/html": [
       "<div>\n",
       "<style scoped>\n",
       "    .dataframe tbody tr th:only-of-type {\n",
       "        vertical-align: middle;\n",
       "    }\n",
       "\n",
       "    .dataframe tbody tr th {\n",
       "        vertical-align: top;\n",
       "    }\n",
       "\n",
       "    .dataframe thead th {\n",
       "        text-align: right;\n",
       "    }\n",
       "</style>\n",
       "<table border=\"1\" class=\"dataframe\">\n",
       "  <thead>\n",
       "    <tr style=\"text-align: right;\">\n",
       "      <th></th>\n",
       "      <th>Fit Type</th>\n",
       "      <th>Slope</th>\n",
       "      <th>Error in Slope</th>\n",
       "      <th>Y Intercept</th>\n",
       "      <th>Error in Y Intercept</th>\n",
       "    </tr>\n",
       "  </thead>\n",
       "  <tbody>\n",
       "    <tr>\n",
       "      <th>0</th>\n",
       "      <td>None</td>\n",
       "      <td>0.997673</td>\n",
       "      <td>0.027071</td>\n",
       "      <td>-0.017443</td>\n",
       "      <td>0.091804</td>\n",
       "    </tr>\n",
       "    <tr>\n",
       "      <th>1</th>\n",
       "      <td>Uniform</td>\n",
       "      <td>0.997673</td>\n",
       "      <td>0.027071</td>\n",
       "      <td>-0.017443</td>\n",
       "      <td>0.091804</td>\n",
       "    </tr>\n",
       "    <tr>\n",
       "      <th>2</th>\n",
       "      <td>Increasing</td>\n",
       "      <td>0.985940</td>\n",
       "      <td>0.038861</td>\n",
       "      <td>-0.001104</td>\n",
       "      <td>0.045494</td>\n",
       "    </tr>\n",
       "    <tr>\n",
       "      <th>3</th>\n",
       "      <td>Endpoints</td>\n",
       "      <td>1.055875</td>\n",
       "      <td>0.077911</td>\n",
       "      <td>-0.252397</td>\n",
       "      <td>0.199303</td>\n",
       "    </tr>\n",
       "  </tbody>\n",
       "</table>\n",
       "</div>"
      ],
      "text/plain": [
       "     Fit Type     Slope  Error in Slope  Y Intercept  Error in Y Intercept\n",
       "0        None  0.997673        0.027071    -0.017443              0.091804\n",
       "1     Uniform  0.997673        0.027071    -0.017443              0.091804\n",
       "2  Increasing  0.985940        0.038861    -0.001104              0.045494\n",
       "3   Endpoints  1.055875        0.077911    -0.252397              0.199303"
      ]
     },
     "execution_count": 11,
     "metadata": {},
     "output_type": "execute_result"
    }
   ],
   "source": [
    "df = pd.DataFrame({'Fit Type':type, 'Slope':slope, 'Error in Slope':dslope, 'Y Intercept':yint, 'Error in Y Intercept':dyint})\n",
    "df.head()"
   ]
  },
  {
   "cell_type": "markdown",
   "metadata": {},
   "source": [
    "## Case 5:  Determining the Y-intercept with increasing uncertainties at small x\n",
    "\n",
    "In many experiments, the uncertainties increase as the independent variable ($x$) becomes small.  We seek to understand how best to design our experiment in these situations to optimize the determination of the y-intercept (at $x=0$)."
   ]
  },
  {
   "cell_type": "code",
   "execution_count": 12,
   "metadata": {},
   "outputs": [
    {
     "data": {
      "text/plain": [
       "<ErrorbarContainer object of 3 artists>"
      ]
     },
     "execution_count": 12,
     "metadata": {},
     "output_type": "execute_result"
    },
    {
     "data": {
      "image/png": "[encoded data removed]",
      "text/plain": [
       "<Figure size 432x288 with 1 Axes>"
      ]
     },
     "metadata": {
      "needs_background": "light"
     },
     "output_type": "display_data"
    }
   ],
   "source": [
    "sigmai = np.array([0.1+ 1.5/np.abs(xi[i]) for i in range(npts)])\n",
    "plt.errorbar(xi, yi, yerr=sigmai, fmt='o', capsize=5, capthick=2)"
   ]
  },
  {
   "cell_type": "code",
   "execution_count": 13,
   "metadata": {},
   "outputs": [
    {
     "name": "stdout",
     "output_type": "stream",
     "text": [
      "Coefficients (from curve_fit)\n",
      "[0.03685434 0.98403967]\n",
      "Covariance Matrix (from curve_fit)\n",
      "[[ 0.02462569 -0.00548171]\n",
      " [-0.00548171  0.00131568]]\n",
      "\n",
      "Final Result: y = (0.98 +/- 0.04) x + (0.04 +/- 0.16)\n"
     ]
    },
    {
     "data": {
      "image/png": "[encoded data removed]",
      "text/plain": [
       "<Figure size 432x288 with 1 Axes>"
      ]
     },
     "metadata": {
      "needs_background": "light"
     },
     "output_type": "display_data"
    }
   ],
   "source": [
    "init_vals = [0.0 for x in range(2)]\n",
    "popt, pcov = curve_fit(fitfunction,xi,yi,p0=init_vals,sigma=sigmai)\n",
    "perr = np.sqrt(np.diag(pcov))\n",
    "\n",
    "ps = np.random.multivariate_normal(popt,pcov,10000)\n",
    "ysample=np.asarray([fitfunction(xi,*pi) for pi in ps])\n",
    "\n",
    "lower = np.percentile(ysample,2.5,axis=0)\n",
    "upper = np.percentile(ysample,97.5,axis=0)\n",
    "middle = (lower+upper)/2.0\n",
    "\n",
    "print(\"Coefficients (from curve_fit)\")\n",
    "print (popt)\n",
    "print(\"Covariance Matrix (from curve_fit)\")\n",
    "print (pcov)\n",
    "\n",
    "print()\n",
    "print (\"Final Result: y = (%0.2f +/- %0.2f) x + (%0.2f +/- %0.2f)\" % (popt[1],perr[1],popt[0],perr[0]))\n",
    "\n",
    "plt.errorbar(xi, yi, yerr=sigmai, fmt='o', capsize=5, capthick=2)\n",
    "\n",
    "plt.plot(xi,middle)\n",
    "plt.plot(xi,lower)\n",
    "plt.plot(xi,upper)\n",
    "plt.show()\n",
    "\n",
    "slope.append(popt[1])\n",
    "dslope.append(perr[1])\n",
    "yint.append(popt[0])\n",
    "dyint.append(perr[0])\n",
    "type.append('Increasing at Small X')"
   ]
  },
  {
   "cell_type": "markdown",
   "metadata": {},
   "source": [
    "## Preliminary Conclusion:  our knowledge of the y-intercept is very limited!"
   ]
  },
  {
   "cell_type": "code",
   "execution_count": 14,
   "metadata": {},
   "outputs": [
    {
     "data": {
      "text/html": [
       "<div>\n",
       "<style scoped>\n",
       "    .dataframe tbody tr th:only-of-type {\n",
       "        vertical-align: middle;\n",
       "    }\n",
       "\n",
       "    .dataframe tbody tr th {\n",
       "        vertical-align: top;\n",
       "    }\n",
       "\n",
       "    .dataframe thead th {\n",
       "        text-align: right;\n",
       "    }\n",
       "</style>\n",
       "<table border=\"1\" class=\"dataframe\">\n",
       "  <thead>\n",
       "    <tr style=\"text-align: right;\">\n",
       "      <th></th>\n",
       "      <th>Fit Type</th>\n",
       "      <th>Slope</th>\n",
       "      <th>Error in Slope</th>\n",
       "      <th>Y Intercept</th>\n",
       "      <th>Error in Y Intercept</th>\n",
       "    </tr>\n",
       "  </thead>\n",
       "  <tbody>\n",
       "    <tr>\n",
       "      <th>0</th>\n",
       "      <td>None</td>\n",
       "      <td>0.997673</td>\n",
       "      <td>0.027071</td>\n",
       "      <td>-0.017443</td>\n",
       "      <td>0.091804</td>\n",
       "    </tr>\n",
       "    <tr>\n",
       "      <th>1</th>\n",
       "      <td>Uniform</td>\n",
       "      <td>0.997673</td>\n",
       "      <td>0.027071</td>\n",
       "      <td>-0.017443</td>\n",
       "      <td>0.091804</td>\n",
       "    </tr>\n",
       "    <tr>\n",
       "      <th>2</th>\n",
       "      <td>Increasing</td>\n",
       "      <td>0.985940</td>\n",
       "      <td>0.038861</td>\n",
       "      <td>-0.001104</td>\n",
       "      <td>0.045494</td>\n",
       "    </tr>\n",
       "    <tr>\n",
       "      <th>3</th>\n",
       "      <td>Endpoints</td>\n",
       "      <td>1.055875</td>\n",
       "      <td>0.077911</td>\n",
       "      <td>-0.252397</td>\n",
       "      <td>0.199303</td>\n",
       "    </tr>\n",
       "    <tr>\n",
       "      <th>4</th>\n",
       "      <td>Increasing at Small X</td>\n",
       "      <td>0.984040</td>\n",
       "      <td>0.036272</td>\n",
       "      <td>0.036854</td>\n",
       "      <td>0.156926</td>\n",
       "    </tr>\n",
       "  </tbody>\n",
       "</table>\n",
       "</div>"
      ],
      "text/plain": [
       "                Fit Type     Slope  Error in Slope  Y Intercept  \\\n",
       "0                   None  0.997673        0.027071    -0.017443   \n",
       "1                Uniform  0.997673        0.027071    -0.017443   \n",
       "2             Increasing  0.985940        0.038861    -0.001104   \n",
       "3              Endpoints  1.055875        0.077911    -0.252397   \n",
       "4  Increasing at Small X  0.984040        0.036272     0.036854   \n",
       "\n",
       "   Error in Y Intercept  \n",
       "0              0.091804  \n",
       "1              0.091804  \n",
       "2              0.045494  \n",
       "3              0.199303  \n",
       "4              0.156926  "
      ]
     },
     "execution_count": 14,
     "metadata": {},
     "output_type": "execute_result"
    }
   ],
   "source": [
    "df = pd.DataFrame({'Fit Type':type, 'Slope':slope, 'Error in Slope':dslope, 'Y Intercept':yint, 'Error in Y Intercept':dyint})\n",
    "df.head()"
   ]
  },
  {
   "cell_type": "markdown",
   "metadata": {},
   "source": [
    "## Case 6:   Decrease the range of x - Focus on the small x region\n",
    "\n",
    "What is the impact of taking the same amount of data as in the original experiment, but focusing on the small x region?"
   ]
  },
  {
   "cell_type": "code",
   "execution_count": 15,
   "metadata": {},
   "outputs": [
    {
     "data": {
      "text/plain": [
       "<ErrorbarContainer object of 3 artists>"
      ]
     },
     "execution_count": 15,
     "metadata": {},
     "output_type": "execute_result"
    },
    {
     "data": {
      "image/png": "[encoded data removed]",
      "text/plain": [
       "<Figure size 432x288 with 1 Axes>"
      ]
     },
     "metadata": {
      "needs_background": "light"
     },
     "output_type": "display_data"
    }
   ],
   "source": [
    "# create some fake data\n",
    "\n",
    "npts = 11\n",
    "xlow = 0.5\n",
    "xhigh = 3.0\n",
    "\n",
    "xl = xlow + 0.01\n",
    "xmid = (xhigh+xlow)/2.0+0.01\n",
    "\n",
    "xi = np.linspace(xlow,xhigh,npts)\n",
    "yi = xi + yrandom\n",
    "\n",
    "sigmai = np.array([0.1+ 1.5/np.abs(xi[i]) for i in range(npts)])\n",
    "plt.errorbar(xi, yi, yerr=sigmai, fmt='o', capsize=5, capthick=2)"
   ]
  },
  {
   "cell_type": "code",
   "execution_count": 16,
   "metadata": {},
   "outputs": [
    {
     "name": "stdout",
     "output_type": "stream",
     "text": [
      "Coefficients (from curve_fit)\n",
      "[0.03265984 0.97301262]\n",
      "Covariance Matrix (from curve_fit)\n",
      "[[ 0.02693152 -0.01092827]\n",
      " [-0.01092827  0.00475095]]\n",
      "\n",
      "Final Result: y = (0.97 +/- 0.07) x + (0.03 +/- 0.16)\n"
     ]
    },
    {
     "data": {
      "image/png": "[encoded data removed]",
      "text/plain": [
       "<Figure size 432x288 with 1 Axes>"
      ]
     },
     "metadata": {
      "needs_background": "light"
     },
     "output_type": "display_data"
    }
   ],
   "source": [
    "init_vals = [0.0 for x in range(2)]\n",
    "popt, pcov = curve_fit(fitfunction,xi,yi,p0=init_vals,sigma=sigmai)\n",
    "perr = np.sqrt(np.diag(pcov))\n",
    "\n",
    "ps = np.random.multivariate_normal(popt,pcov,10000)\n",
    "ysample=np.asarray([fitfunction(xi,*pi) for pi in ps])\n",
    "\n",
    "lower = np.percentile(ysample,2.5,axis=0)\n",
    "upper = np.percentile(ysample,97.5,axis=0)\n",
    "middle = (lower+upper)/2.0\n",
    "\n",
    "print(\"Coefficients (from curve_fit)\")\n",
    "print (popt)\n",
    "print(\"Covariance Matrix (from curve_fit)\")\n",
    "print (pcov)\n",
    "\n",
    "print()\n",
    "print (\"Final Result: y = (%0.2f +/- %0.2f) x + (%0.2f +/- %0.2f)\" % (popt[1],perr[1],popt[0],perr[0]))\n",
    "\n",
    "plt.errorbar(xi, yi, yerr=sigmai, fmt='o', capsize=5, capthick=2)\n",
    "\n",
    "plt.plot(xi,middle)\n",
    "plt.plot(xi,lower)\n",
    "plt.plot(xi,upper)\n",
    "plt.show()\n",
    "\n",
    "slope.append(popt[1])\n",
    "dslope.append(perr[1])\n",
    "yint.append(popt[0])\n",
    "dyint.append(perr[0])\n",
    "type.append('Small X Range')"
   ]
  },
  {
   "cell_type": "code",
   "execution_count": 17,
   "metadata": {},
   "outputs": [
    {
     "data": {
      "text/html": [
       "<div>\n",
       "<style scoped>\n",
       "    .dataframe tbody tr th:only-of-type {\n",
       "        vertical-align: middle;\n",
       "    }\n",
       "\n",
       "    .dataframe tbody tr th {\n",
       "        vertical-align: top;\n",
       "    }\n",
       "\n",
       "    .dataframe thead th {\n",
       "        text-align: right;\n",
       "    }\n",
       "</style>\n",
       "<table border=\"1\" class=\"dataframe\">\n",
       "  <thead>\n",
       "    <tr style=\"text-align: right;\">\n",
       "      <th></th>\n",
       "      <th>Fit Type</th>\n",
       "      <th>Slope</th>\n",
       "      <th>Error in Slope</th>\n",
       "      <th>Y Intercept</th>\n",
       "      <th>Error in Y Intercept</th>\n",
       "    </tr>\n",
       "  </thead>\n",
       "  <tbody>\n",
       "    <tr>\n",
       "      <th>0</th>\n",
       "      <td>None</td>\n",
       "      <td>0.997673</td>\n",
       "      <td>0.027071</td>\n",
       "      <td>-0.017443</td>\n",
       "      <td>0.091804</td>\n",
       "    </tr>\n",
       "    <tr>\n",
       "      <th>1</th>\n",
       "      <td>Uniform</td>\n",
       "      <td>0.997673</td>\n",
       "      <td>0.027071</td>\n",
       "      <td>-0.017443</td>\n",
       "      <td>0.091804</td>\n",
       "    </tr>\n",
       "    <tr>\n",
       "      <th>2</th>\n",
       "      <td>Increasing</td>\n",
       "      <td>0.985940</td>\n",
       "      <td>0.038861</td>\n",
       "      <td>-0.001104</td>\n",
       "      <td>0.045494</td>\n",
       "    </tr>\n",
       "    <tr>\n",
       "      <th>3</th>\n",
       "      <td>Endpoints</td>\n",
       "      <td>1.055875</td>\n",
       "      <td>0.077911</td>\n",
       "      <td>-0.252397</td>\n",
       "      <td>0.199303</td>\n",
       "    </tr>\n",
       "    <tr>\n",
       "      <th>4</th>\n",
       "      <td>Increasing at Small X</td>\n",
       "      <td>0.984040</td>\n",
       "      <td>0.036272</td>\n",
       "      <td>0.036854</td>\n",
       "      <td>0.156926</td>\n",
       "    </tr>\n",
       "    <tr>\n",
       "      <th>5</th>\n",
       "      <td>Small X Range</td>\n",
       "      <td>0.973013</td>\n",
       "      <td>0.068927</td>\n",
       "      <td>0.032660</td>\n",
       "      <td>0.164108</td>\n",
       "    </tr>\n",
       "  </tbody>\n",
       "</table>\n",
       "</div>"
      ],
      "text/plain": [
       "                Fit Type     Slope  Error in Slope  Y Intercept  \\\n",
       "0                   None  0.997673        0.027071    -0.017443   \n",
       "1                Uniform  0.997673        0.027071    -0.017443   \n",
       "2             Increasing  0.985940        0.038861    -0.001104   \n",
       "3              Endpoints  1.055875        0.077911    -0.252397   \n",
       "4  Increasing at Small X  0.984040        0.036272     0.036854   \n",
       "5          Small X Range  0.973013        0.068927     0.032660   \n",
       "\n",
       "   Error in Y Intercept  \n",
       "0              0.091804  \n",
       "1              0.091804  \n",
       "2              0.045494  \n",
       "3              0.199303  \n",
       "4              0.156926  \n",
       "5              0.164108  "
      ]
     },
     "execution_count": 17,
     "metadata": {},
     "output_type": "execute_result"
    }
   ],
   "source": [
    "df = pd.DataFrame({'Fit Type':type, 'Slope':slope, 'Error in Slope':dslope, 'Y Intercept':yint, 'Error in Y Intercept':dyint})\n",
    "df.head(10)"
   ]
  },
  {
   "cell_type": "markdown",
   "metadata": {},
   "source": [
    "## Case 7:   Increase the range of x - create a larger lever arm\n",
    "\n",
    "What is the impact of taking the same amount of data as in the original experiment, but increasing the x range, so as to creat a larger lever arm?"
   ]
  },
  {
   "cell_type": "code",
   "execution_count": 18,
   "metadata": {},
   "outputs": [
    {
     "data": {
      "text/plain": [
       "<ErrorbarContainer object of 3 artists>"
      ]
     },
     "execution_count": 18,
     "metadata": {},
     "output_type": "execute_result"
    },
    {
     "data": {
      "image/png": "[encoded data removed]",
      "text/plain": [
       "<Figure size 432x288 with 1 Axes>"
      ]
     },
     "metadata": {
      "needs_background": "light"
     },
     "output_type": "display_data"
    }
   ],
   "source": [
    "# create some fake data\n",
    "\n",
    "npts = 11\n",
    "xlow = 0.5\n",
    "xhigh = 20.5\n",
    "\n",
    "xl = xlow + 0.01\n",
    "xmid = (xhigh+xlow)/2.0+0.01\n",
    "\n",
    "xi = np.linspace(xlow,xhigh,npts)\n",
    "yi = xi + yrandom\n",
    "\n",
    "sigmai = np.array([0.1+ 1.5/np.abs(xi[i]) for i in range(npts)])\n",
    "plt.errorbar(xi, yi, yerr=sigmai, fmt='o', capsize=5, capthick=2)"
   ]
  },
  {
   "cell_type": "code",
   "execution_count": 19,
   "metadata": {},
   "outputs": [
    {
     "name": "stdout",
     "output_type": "stream",
     "text": [
      "Coefficients (from curve_fit)\n",
      "[0.04426425 0.99518719]\n",
      "Covariance Matrix (from curve_fit)\n",
      "[[ 1.91165405e-02 -1.17939585e-03]\n",
      " [-1.17939585e-03  8.02180478e-05]]\n",
      "\n",
      "Final Result: y = (1.00 +/- 0.01) x + (0.04 +/- 0.14)\n"
     ]
    },
    {
     "data": {
      "image/png": "[encoded data removed]",
      "text/plain": [
       "<Figure size 432x288 with 1 Axes>"
      ]
     },
     "metadata": {
      "needs_background": "light"
     },
     "output_type": "display_data"
    }
   ],
   "source": [
    "init_vals = [0.0 for x in range(2)]\n",
    "popt, pcov = curve_fit(fitfunction,xi,yi,p0=init_vals,sigma=sigmai)\n",
    "perr = np.sqrt(np.diag(pcov))\n",
    "\n",
    "ps = np.random.multivariate_normal(popt,pcov,10000)\n",
    "ysample=np.asarray([fitfunction(xi,*pi) for pi in ps])\n",
    "\n",
    "lower = np.percentile(ysample,2.5,axis=0)\n",
    "upper = np.percentile(ysample,97.5,axis=0)\n",
    "middle = (lower+upper)/2.0\n",
    "\n",
    "print(\"Coefficients (from curve_fit)\")\n",
    "print (popt)\n",
    "print(\"Covariance Matrix (from curve_fit)\")\n",
    "print (pcov)\n",
    "\n",
    "print()\n",
    "print (\"Final Result: y = (%0.2f +/- %0.2f) x + (%0.2f +/- %0.2f)\" % (popt[1],perr[1],popt[0],perr[0]))\n",
    "\n",
    "plt.errorbar(xi, yi, yerr=sigmai, fmt='o', capsize=5, capthick=2)\n",
    "\n",
    "plt.plot(xi,middle)\n",
    "plt.plot(xi,lower)\n",
    "plt.plot(xi,upper)\n",
    "plt.show()\n",
    "\n",
    "slope.append(popt[1])\n",
    "dslope.append(perr[1])\n",
    "yint.append(popt[0])\n",
    "dyint.append(perr[0])\n",
    "type.append('Large X Range')"
   ]
  },
  {
   "cell_type": "code",
   "execution_count": 20,
   "metadata": {},
   "outputs": [
    {
     "data": {
      "text/html": [
       "<div>\n",
       "<style scoped>\n",
       "    .dataframe tbody tr th:only-of-type {\n",
       "        vertical-align: middle;\n",
       "    }\n",
       "\n",
       "    .dataframe tbody tr th {\n",
       "        vertical-align: top;\n",
       "    }\n",
       "\n",
       "    .dataframe thead th {\n",
       "        text-align: right;\n",
       "    }\n",
       "</style>\n",
       "<table border=\"1\" class=\"dataframe\">\n",
       "  <thead>\n",
       "    <tr style=\"text-align: right;\">\n",
       "      <th></th>\n",
       "      <th>Fit Type</th>\n",
       "      <th>Slope</th>\n",
       "      <th>Error in Slope</th>\n",
       "      <th>Y Intercept</th>\n",
       "      <th>Error in Y Intercept</th>\n",
       "    </tr>\n",
       "  </thead>\n",
       "  <tbody>\n",
       "    <tr>\n",
       "      <th>0</th>\n",
       "      <td>None</td>\n",
       "      <td>0.997673</td>\n",
       "      <td>0.027071</td>\n",
       "      <td>-0.017443</td>\n",
       "      <td>0.091804</td>\n",
       "    </tr>\n",
       "    <tr>\n",
       "      <th>1</th>\n",
       "      <td>Uniform</td>\n",
       "      <td>0.997673</td>\n",
       "      <td>0.027071</td>\n",
       "      <td>-0.017443</td>\n",
       "      <td>0.091804</td>\n",
       "    </tr>\n",
       "    <tr>\n",
       "      <th>2</th>\n",
       "      <td>Increasing</td>\n",
       "      <td>0.985940</td>\n",
       "      <td>0.038861</td>\n",
       "      <td>-0.001104</td>\n",
       "      <td>0.045494</td>\n",
       "    </tr>\n",
       "    <tr>\n",
       "      <th>3</th>\n",
       "      <td>Endpoints</td>\n",
       "      <td>1.055875</td>\n",
       "      <td>0.077911</td>\n",
       "      <td>-0.252397</td>\n",
       "      <td>0.199303</td>\n",
       "    </tr>\n",
       "    <tr>\n",
       "      <th>4</th>\n",
       "      <td>Increasing at Small X</td>\n",
       "      <td>0.984040</td>\n",
       "      <td>0.036272</td>\n",
       "      <td>0.036854</td>\n",
       "      <td>0.156926</td>\n",
       "    </tr>\n",
       "    <tr>\n",
       "      <th>5</th>\n",
       "      <td>Small X Range</td>\n",
       "      <td>0.973013</td>\n",
       "      <td>0.068927</td>\n",
       "      <td>0.032660</td>\n",
       "      <td>0.164108</td>\n",
       "    </tr>\n",
       "    <tr>\n",
       "      <th>6</th>\n",
       "      <td>Large X Range</td>\n",
       "      <td>0.995187</td>\n",
       "      <td>0.008956</td>\n",
       "      <td>0.044264</td>\n",
       "      <td>0.138263</td>\n",
       "    </tr>\n",
       "  </tbody>\n",
       "</table>\n",
       "</div>"
      ],
      "text/plain": [
       "                Fit Type     Slope  Error in Slope  Y Intercept  \\\n",
       "0                   None  0.997673        0.027071    -0.017443   \n",
       "1                Uniform  0.997673        0.027071    -0.017443   \n",
       "2             Increasing  0.985940        0.038861    -0.001104   \n",
       "3              Endpoints  1.055875        0.077911    -0.252397   \n",
       "4  Increasing at Small X  0.984040        0.036272     0.036854   \n",
       "5          Small X Range  0.973013        0.068927     0.032660   \n",
       "6          Large X Range  0.995187        0.008956     0.044264   \n",
       "\n",
       "   Error in Y Intercept  \n",
       "0              0.091804  \n",
       "1              0.091804  \n",
       "2              0.045494  \n",
       "3              0.199303  \n",
       "4              0.156926  \n",
       "5              0.164108  \n",
       "6              0.138263  "
      ]
     },
     "execution_count": 20,
     "metadata": {},
     "output_type": "execute_result"
    }
   ],
   "source": [
    "df = pd.DataFrame({'Fit Type':type, 'Slope':slope, 'Error in Slope':dslope, 'Y Intercept':yint, 'Error in Y Intercept':dyint})\n",
    "df.head(10)"
   ]
  },
  {
   "cell_type": "code",
   "execution_count": null,
   "metadata": {},
   "outputs": [],
   "source": []
  }
 ],
 "metadata": {
  "kernelspec": {
   "display_name": "Python 3",
   "language": "python",
   "name": "python3"
  },
  "language_info": {
   "codemirror_mode": {
    "name": "ipython",
    "version": 3
   },
   "file_extension": ".py",
   "mimetype": "text/x-python",
   "name": "python",
   "nbconvert_exporter": "python",
   "pygments_lexer": "ipython3",
   "version": "3.6.8"
  }
 },
 "nbformat": 4,
 "nbformat_minor": 2
}
